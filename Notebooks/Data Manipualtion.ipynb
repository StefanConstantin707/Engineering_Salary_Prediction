{
 "cells": [
  {
   "cell_type": "code",
   "id": "initial_id",
   "metadata": {
    "collapsed": true,
    "ExecuteTime": {
     "end_time": "2025-05-05T08:19:07.078369Z",
     "start_time": "2025-05-05T08:19:05.963977Z"
    }
   },
   "source": [
    "import numpy as np\n",
    "import polars as pl\n",
    "from sklearn.impute import KNNImputer\n",
    "from sklearn.preprocessing import LabelEncoder\n",
    "\n",
    "\n",
    "data = pl.read_csv(\"../data/raw_data/train.csv\")\n",
    "\n",
    "\n",
    "def add_state_avg_salary(data):\n",
    "    \"\"\"Add state average salary column based on job_state\"\"\"\n",
    "    abbr_to_mean = {\n",
    "        \"NH\": 97046, \"MA\": 94651, \"OR\": 94286, \"PA\": 93864, \"NY\": 93391,\n",
    "        \"MD\": 92244, \"WV\": 90701, \"TX\": 89407, \"VT\": 89074, \"NV\": 88635,\n",
    "        \"CA\": 87957, \"ND\": 87795, \"VA\": 86648, \"ME\": 86128, \"WI\": 85718,\n",
    "        \"DE\": 85112, \"NM\": 84814, \"KS\": 84508, \"OK\": 84153, \"WA\": 83605,\n",
    "        \"AZ\": 83199, \"TN\": 82354, \"ID\": 82316, \"MS\": 80873, \"AR\": 79907,\n",
    "        \"KY\": 78545, \"SC\": 78256, \"WY\": 77540, \"UT\": 77455, \"AL\": 76867,\n",
    "        \"RI\": 76628, \"GA\": 76574, \"IL\": 76205, \"MN\": 75504, \"MT\": 75309,\n",
    "        \"NJ\": 74480, \"IN\": 73188, \"IA\": 72526, \"CT\": 72447, \"NC\": 71590,\n",
    "        \"CO\": 71342, \"MO\": 70645, \"FL\": 70393, \"OH\": 68590, \"HI\": 67412,\n",
    "        \"LA\": 67027, \"AK\": 65498, \"NE\": 65123, \"SD\": 62823, \"MI\": 61400\n",
    "    }\n",
    "    global_mean = sum(abbr_to_mean.values()) / len(abbr_to_mean)\n",
    "    \n",
    "    data = data.with_columns(\n",
    "        pl.col(\"job_state\")\n",
    "        .cast(pl.Utf8)\n",
    "        .replace(abbr_to_mean, default=global_mean)\n",
    "        .fill_null(global_mean)\n",
    "        .alias(\"state_avg_salary\")\n",
    "    ).drop(\"job_state\")\n",
    "    \n",
    "    return data\n",
    "\n",
    "def fill_missing_data(X):\n",
    "    \"\"\"Fill missing data using KNN imputation\"\"\"\n",
    "    # Split columns into job_desc vs. everything else\n",
    "    job_desc_cols = [c for c in X.columns if c.startswith(\"job_desc_\")]\n",
    "    other_cols = [c for c in X.columns if c not in job_desc_cols]\n",
    "\n",
    "    # Fill non-job_desc columns with their means first\n",
    "    other_filled = X.select(other_cols).with_columns([\n",
    "        pl.col(c).fill_null(pl.col(c).mean()).alias(c)\n",
    "        for c in other_cols\n",
    "    ])\n",
    "\n",
    "    # Convert to pandas for KNNImputer\n",
    "    X_pd = X.to_pandas()\n",
    "\n",
    "    # Fill non-job_desc columns with their means\n",
    "    for col in other_cols:\n",
    "        if X_pd[col].isna().any():\n",
    "            X_pd[col] = X_pd[col].fillna(X_pd[col].mean())\n",
    "\n",
    "    # Mask zeros in job_desc columns as nulls\n",
    "    for col in job_desc_cols:\n",
    "        X_pd.loc[X_pd[col] == 0, col] = np.nan\n",
    "\n",
    "    # Apply KNN imputation\n",
    "    imputer = KNNImputer(\n",
    "        missing_values=np.nan,\n",
    "        n_neighbors=5,\n",
    "        weights=\"distance\"\n",
    "    )\n",
    "    X_imputed = imputer.fit_transform(X_pd)\n",
    "\n",
    "    # Create result DataFrame\n",
    "    result = pl.DataFrame(X_imputed, schema=X.columns)\n",
    "\n",
    "    return result\n"
   ],
   "outputs": [],
   "execution_count": 1
  },
  {
   "metadata": {
    "ExecuteTime": {
     "end_time": "2025-05-05T08:19:08.067957Z",
     "start_time": "2025-05-05T08:19:07.088471Z"
    }
   },
   "cell_type": "code",
   "source": [
    "data = data.with_columns(\n",
    "    pl.col(\"job_posted_date\").str.strptime(pl.Date, format=\"%Y/%m\"),\n",
    "    pl.col(\"job_title\").cast(pl.Categorical),\n",
    "    pl.col(\"job_state\").cast(pl.Categorical),\n",
    "    pl.col(\"feature_1\").cast(pl.Categorical),\n",
    "    pl.col(pl.Boolean).cast(pl.Int32)\n",
    ")\n",
    "\n",
    "\n",
    "data = data.with_columns(\n",
    "    pl.col(\"salary_category\").cast(pl.Categorical),\n",
    ")\n",
    "\n",
    "# Define column groups\n",
    "feature_cols = [f\"feature_{i}\" for i in range(1, 13)]\n",
    "job_desc_cols = [f\"job_desc_{i:03d}\" for i in range(1, 301)]\n",
    "extra_feature = [\"state_avg_salary\", \"job_title\", \"months_since_ref\", \"month\", \"jd_norm\"]\n",
    "\n",
    "# Calculate reference date\n",
    "ref = data[\"job_posted_date\"].min()\n",
    "ref_total = ref.year * 12 + ref.month - 1\n",
    "\n",
    "# Add time-based features\n",
    "data = data.with_columns([\n",
    "    # Linear trend: months since ref\n",
    "    (\n",
    "        (pl.col(\"job_posted_date\").dt.year() * 12 +\n",
    "         pl.col(\"job_posted_date\").dt.month() - 1)\n",
    "        - ref_total\n",
    "    ).alias(\"months_since_ref\"),\n",
    "    pl.col(\"job_posted_date\").dt.month().alias(\"month\"),\n",
    "])\n",
    "\n",
    "# Add job description norm feature\n",
    "data = data.with_columns(\n",
    "    np.sqrt(sum(pl.col(c) ** 2 for c in job_desc_cols)).alias(\"jd_norm\")\n",
    ")\n",
    "\n",
    "# Add state average salary\n",
    "data = add_state_avg_salary(data)\n",
    "\n",
    "# Prepare features\n",
    "total_features = feature_cols + job_desc_cols + extra_feature\n",
    "X = data.select(total_features).to_dummies(\n",
    "    columns=[\"job_title\", \"feature_1\"]\n",
    ")\n",
    "\n",
    "\n",
    "Y = data[\"salary_category\"]\n",
    "le = LabelEncoder().fit(Y)\n",
    "Y_encoded = le.transform(Y)\n",
    "\n",
    "\n",
    "\n",
    "X = fill_missing_data(X)"
   ],
   "id": "c358edb58d689cf2",
   "outputs": [
    {
     "name": "stderr",
     "output_type": "stream",
     "text": [
      "C:\\Users\\StefanConstantin\\AppData\\Local\\Temp\\ipykernel_27576\\481388174.py:29: DeprecationWarning: The `default` parameter for `replace` is deprecated. Use `replace_strict` instead to set a default while replacing values.\n",
      "  .replace(abbr_to_mean, default=global_mean)\n"
     ]
    }
   ],
   "execution_count": 2
  },
  {
   "metadata": {
    "ExecuteTime": {
     "end_time": "2025-05-05T08:19:08.210015Z",
     "start_time": "2025-05-05T08:19:08.196494Z"
    }
   },
   "cell_type": "code",
   "source": "data",
   "id": "17b84aa73cadc162",
   "outputs": [
    {
     "data": {
      "text/plain": [
       "shape: (1_280, 320)\n",
       "┌──────┬─────────────┬─────────────┬─────────────┬───┬─────────────┬───────┬──────────┬────────────┐\n",
       "│ obs  ┆ job_title   ┆ job_posted_ ┆ salary_cate ┆ … ┆ months_sinc ┆ month ┆ jd_norm  ┆ state_avg_ │\n",
       "│ ---  ┆ ---         ┆ date        ┆ gory        ┆   ┆ e_ref       ┆ ---   ┆ ---      ┆ salary     │\n",
       "│ i64  ┆ cat         ┆ ---         ┆ ---         ┆   ┆ ---         ┆ i8    ┆ f64      ┆ ---        │\n",
       "│      ┆             ┆ date        ┆ cat         ┆   ┆ i32         ┆       ┆          ┆ f64        │\n",
       "╞══════╪═════════════╪═════════════╪═════════════╪═══╪═════════════╪═══════╪══════════╪════════════╡\n",
       "│ 1    ┆ Others      ┆ 2024-07-01  ┆ High        ┆ … ┆ 68          ┆ 7     ┆ 9.237861 ┆ 93391.0    │\n",
       "│ 2    ┆ Job_Title_1 ┆ 2024-07-01  ┆ Low         ┆ … ┆ 68          ┆ 7     ┆ 9.02549  ┆ 87957.0    │\n",
       "│ 3    ┆ Others      ┆ 2024-07-01  ┆ Low         ┆ … ┆ 68          ┆ 7     ┆ 0.0      ┆ 87957.0    │\n",
       "│ 4    ┆ Others      ┆ 2024-07-01  ┆ Low         ┆ … ┆ 68          ┆ 7     ┆ 0.0      ┆ 87957.0    │\n",
       "│ 5    ┆ Others      ┆ 2024-07-01  ┆ Low         ┆ … ┆ 68          ┆ 7     ┆ 9.06218  ┆ 87957.0    │\n",
       "│ …    ┆ …           ┆ …           ┆ …           ┆ … ┆ …           ┆ …     ┆ …        ┆ …          │\n",
       "│ 1276 ┆ Job_Title_2 ┆ 2024-06-01  ┆ High        ┆ … ┆ 67          ┆ 6     ┆ 8.85177  ┆ 87957.0    │\n",
       "│      ┆ 1           ┆             ┆             ┆   ┆             ┆       ┆          ┆            │\n",
       "│ 1277 ┆ Others      ┆ 2024-07-01  ┆ High        ┆ … ┆ 68          ┆ 7     ┆ 9.095124 ┆ 87957.0    │\n",
       "│ 1278 ┆ Job_Title_1 ┆ 2024-08-01  ┆ Medium      ┆ … ┆ 69          ┆ 8     ┆ 8.460282 ┆ 93391.0    │\n",
       "│      ┆ 0           ┆             ┆             ┆   ┆             ┆       ┆          ┆            │\n",
       "│ 1279 ┆ Job_Title_2 ┆ 2024-07-01  ┆ Medium      ┆ … ┆ 68          ┆ 7     ┆ 9.498258 ┆ 87957.0    │\n",
       "│ 1280 ┆ Job_Title_1 ┆ 2024-07-01  ┆ Medium      ┆ … ┆ 68          ┆ 7     ┆ 9.229448 ┆ 93391.0    │\n",
       "└──────┴─────────────┴─────────────┴─────────────┴───┴─────────────┴───────┴──────────┴────────────┘"
      ],
      "text/html": [
       "<div><style>\n",
       ".dataframe > thead > tr,\n",
       ".dataframe > tbody > tr {\n",
       "  text-align: right;\n",
       "  white-space: pre-wrap;\n",
       "}\n",
       "</style>\n",
       "<small>shape: (1_280, 320)</small><table border=\"1\" class=\"dataframe\"><thead><tr><th>obs</th><th>job_title</th><th>job_posted_date</th><th>salary_category</th><th>feature_1</th><th>feature_2</th><th>feature_3</th><th>feature_4</th><th>feature_5</th><th>feature_6</th><th>feature_7</th><th>feature_8</th><th>feature_9</th><th>feature_10</th><th>feature_11</th><th>feature_12</th><th>job_desc_001</th><th>job_desc_002</th><th>job_desc_003</th><th>job_desc_004</th><th>job_desc_005</th><th>job_desc_006</th><th>job_desc_007</th><th>job_desc_008</th><th>job_desc_009</th><th>job_desc_010</th><th>job_desc_011</th><th>job_desc_012</th><th>job_desc_013</th><th>job_desc_014</th><th>job_desc_015</th><th>job_desc_016</th><th>job_desc_017</th><th>job_desc_018</th><th>job_desc_019</th><th>job_desc_020</th><th>job_desc_021</th><th>&hellip;</th><th>job_desc_268</th><th>job_desc_269</th><th>job_desc_270</th><th>job_desc_271</th><th>job_desc_272</th><th>job_desc_273</th><th>job_desc_274</th><th>job_desc_275</th><th>job_desc_276</th><th>job_desc_277</th><th>job_desc_278</th><th>job_desc_279</th><th>job_desc_280</th><th>job_desc_281</th><th>job_desc_282</th><th>job_desc_283</th><th>job_desc_284</th><th>job_desc_285</th><th>job_desc_286</th><th>job_desc_287</th><th>job_desc_288</th><th>job_desc_289</th><th>job_desc_290</th><th>job_desc_291</th><th>job_desc_292</th><th>job_desc_293</th><th>job_desc_294</th><th>job_desc_295</th><th>job_desc_296</th><th>job_desc_297</th><th>job_desc_298</th><th>job_desc_299</th><th>job_desc_300</th><th>months_since_ref</th><th>month</th><th>jd_norm</th><th>state_avg_salary</th></tr><tr><td>i64</td><td>cat</td><td>date</td><td>cat</td><td>cat</td><td>f64</td><td>i32</td><td>i32</td><td>i32</td><td>i32</td><td>i32</td><td>i32</td><td>i32</td><td>f64</td><td>i32</td><td>i32</td><td>f64</td><td>f64</td><td>f64</td><td>f64</td><td>f64</td><td>f64</td><td>f64</td><td>f64</td><td>f64</td><td>f64</td><td>f64</td><td>f64</td><td>f64</td><td>f64</td><td>f64</td><td>f64</td><td>f64</td><td>f64</td><td>f64</td><td>f64</td><td>f64</td><td>&hellip;</td><td>f64</td><td>f64</td><td>f64</td><td>f64</td><td>f64</td><td>f64</td><td>f64</td><td>f64</td><td>f64</td><td>f64</td><td>f64</td><td>f64</td><td>f64</td><td>f64</td><td>f64</td><td>f64</td><td>f64</td><td>f64</td><td>f64</td><td>f64</td><td>f64</td><td>f64</td><td>f64</td><td>f64</td><td>f64</td><td>f64</td><td>f64</td><td>f64</td><td>f64</td><td>f64</td><td>f64</td><td>f64</td><td>f64</td><td>i32</td><td>i8</td><td>f64</td><td>f64</td></tr></thead><tbody><tr><td>1</td><td>&quot;Others&quot;</td><td>2024-07-01</td><td>&quot;High&quot;</td><td>&quot;A&quot;</td><td>0.6429</td><td>0</td><td>0</td><td>1</td><td>1</td><td>1</td><td>0</td><td>0</td><td>60.0</td><td>1</td><td>0</td><td>0.193511</td><td>2.275482</td><td>-0.440363</td><td>-0.327473</td><td>0.058464</td><td>-0.154043</td><td>-0.393158</td><td>-0.367905</td><td>-0.703665</td><td>0.562969</td><td>0.058359</td><td>-0.632267</td><td>0.326872</td><td>-0.276131</td><td>0.098252</td><td>0.019475</td><td>0.105348</td><td>-0.411405</td><td>0.635027</td><td>-0.192049</td><td>3.849681</td><td>&hellip;</td><td>-0.167435</td><td>-0.342473</td><td>0.185418</td><td>-0.233041</td><td>-0.016037</td><td>0.602155</td><td>-0.511326</td><td>0.60238</td><td>-0.25441</td><td>-0.114025</td><td>0.08606</td><td>-0.012974</td><td>0.523685</td><td>-0.864781</td><td>0.084526</td><td>0.15464</td><td>0.283154</td><td>-0.848735</td><td>-0.108635</td><td>0.049179</td><td>0.210502</td><td>-0.53584</td><td>0.113221</td><td>-0.362079</td><td>-0.499308</td><td>-0.367894</td><td>-0.214881</td><td>0.01487</td><td>-0.271177</td><td>-0.113347</td><td>-0.587955</td><td>-0.919095</td><td>-0.20734</td><td>68</td><td>7</td><td>9.237861</td><td>93391.0</td></tr><tr><td>2</td><td>&quot;Job_Title_1&quot;</td><td>2024-07-01</td><td>&quot;Low&quot;</td><td>&quot;A&quot;</td><td>0.4678</td><td>0</td><td>0</td><td>0</td><td>1</td><td>1</td><td>1</td><td>0</td><td>60.0</td><td>1</td><td>1</td><td>0.100152</td><td>2.291134</td><td>-0.356041</td><td>-0.494735</td><td>0.038632</td><td>-0.356995</td><td>-0.63302</td><td>-0.444805</td><td>-0.252597</td><td>0.18721</td><td>0.261958</td><td>-0.734535</td><td>0.264041</td><td>-0.209023</td><td>0.144627</td><td>-0.182167</td><td>0.144194</td><td>-0.43669</td><td>0.405126</td><td>-0.240945</td><td>3.781854</td><td>&hellip;</td><td>-0.065834</td><td>-0.395344</td><td>0.04834</td><td>-0.198469</td><td>0.0261</td><td>0.390649</td><td>-0.484126</td><td>0.53313</td><td>-0.196634</td><td>-0.330162</td><td>0.200502</td><td>0.047225</td><td>0.263908</td><td>-0.817924</td><td>-0.069964</td><td>0.357457</td><td>0.323456</td><td>-0.977607</td><td>-0.034979</td><td>-0.053379</td><td>-0.02734</td><td>-0.511633</td><td>-0.105435</td><td>-0.300989</td><td>-0.415411</td><td>-0.341824</td><td>-0.319064</td><td>0.042322</td><td>-0.124755</td><td>0.023489</td><td>-0.893224</td><td>-0.823024</td><td>0.112364</td><td>68</td><td>7</td><td>9.02549</td><td>87957.0</td></tr><tr><td>3</td><td>&quot;Others&quot;</td><td>2024-07-01</td><td>&quot;Low&quot;</td><td>&quot;A&quot;</td><td>0.461</td><td>0</td><td>0</td><td>0</td><td>1</td><td>1</td><td>1</td><td>0</td><td>36.0</td><td>1</td><td>1</td><td>0.0</td><td>0.0</td><td>0.0</td><td>0.0</td><td>0.0</td><td>0.0</td><td>0.0</td><td>0.0</td><td>0.0</td><td>0.0</td><td>0.0</td><td>0.0</td><td>0.0</td><td>0.0</td><td>0.0</td><td>0.0</td><td>0.0</td><td>0.0</td><td>0.0</td><td>0.0</td><td>0.0</td><td>&hellip;</td><td>0.0</td><td>0.0</td><td>0.0</td><td>0.0</td><td>0.0</td><td>0.0</td><td>0.0</td><td>0.0</td><td>0.0</td><td>0.0</td><td>0.0</td><td>0.0</td><td>0.0</td><td>0.0</td><td>0.0</td><td>0.0</td><td>0.0</td><td>0.0</td><td>0.0</td><td>0.0</td><td>0.0</td><td>0.0</td><td>0.0</td><td>0.0</td><td>0.0</td><td>0.0</td><td>0.0</td><td>0.0</td><td>0.0</td><td>0.0</td><td>0.0</td><td>0.0</td><td>0.0</td><td>68</td><td>7</td><td>0.0</td><td>87957.0</td></tr><tr><td>4</td><td>&quot;Others&quot;</td><td>2024-07-01</td><td>&quot;Low&quot;</td><td>&quot;A&quot;</td><td>0.5064</td><td>0</td><td>0</td><td>0</td><td>1</td><td>1</td><td>1</td><td>0</td><td>72.0</td><td>1</td><td>1</td><td>0.0</td><td>0.0</td><td>0.0</td><td>0.0</td><td>0.0</td><td>0.0</td><td>0.0</td><td>0.0</td><td>0.0</td><td>0.0</td><td>0.0</td><td>0.0</td><td>0.0</td><td>0.0</td><td>0.0</td><td>0.0</td><td>0.0</td><td>0.0</td><td>0.0</td><td>0.0</td><td>0.0</td><td>&hellip;</td><td>0.0</td><td>0.0</td><td>0.0</td><td>0.0</td><td>0.0</td><td>0.0</td><td>0.0</td><td>0.0</td><td>0.0</td><td>0.0</td><td>0.0</td><td>0.0</td><td>0.0</td><td>0.0</td><td>0.0</td><td>0.0</td><td>0.0</td><td>0.0</td><td>0.0</td><td>0.0</td><td>0.0</td><td>0.0</td><td>0.0</td><td>0.0</td><td>0.0</td><td>0.0</td><td>0.0</td><td>0.0</td><td>0.0</td><td>0.0</td><td>0.0</td><td>0.0</td><td>0.0</td><td>68</td><td>7</td><td>0.0</td><td>87957.0</td></tr><tr><td>5</td><td>&quot;Others&quot;</td><td>2024-07-01</td><td>&quot;Low&quot;</td><td>&quot;A&quot;</td><td>0.464</td><td>0</td><td>0</td><td>0</td><td>1</td><td>1</td><td>0</td><td>0</td><td>48.0</td><td>1</td><td>1</td><td>0.406864</td><td>1.986625</td><td>-0.726046</td><td>-0.316294</td><td>0.062115</td><td>-0.451118</td><td>-0.659871</td><td>-0.451544</td><td>-0.505597</td><td>0.119204</td><td>-0.542267</td><td>-0.623306</td><td>0.048583</td><td>-0.103152</td><td>-0.007468</td><td>0.236105</td><td>0.20434</td><td>-0.280865</td><td>0.203199</td><td>-0.435184</td><td>3.603102</td><td>&hellip;</td><td>0.175365</td><td>-0.272249</td><td>-0.008637</td><td>-0.153464</td><td>-0.001045</td><td>0.295818</td><td>-0.174998</td><td>0.781811</td><td>-0.155236</td><td>-0.612957</td><td>0.254792</td><td>-0.063058</td><td>0.259242</td><td>-0.669112</td><td>0.142055</td><td>0.200105</td><td>0.227985</td><td>-0.829408</td><td>-0.361299</td><td>0.005694</td><td>-0.118158</td><td>-0.654845</td><td>-0.099771</td><td>-0.406159</td><td>-0.654657</td><td>-0.074398</td><td>-0.464479</td><td>0.081037</td><td>-0.136992</td><td>-0.27627</td><td>-0.696853</td><td>-0.601466</td><td>0.089939</td><td>68</td><td>7</td><td>9.06218</td><td>87957.0</td></tr><tr><td>&hellip;</td><td>&hellip;</td><td>&hellip;</td><td>&hellip;</td><td>&hellip;</td><td>&hellip;</td><td>&hellip;</td><td>&hellip;</td><td>&hellip;</td><td>&hellip;</td><td>&hellip;</td><td>&hellip;</td><td>&hellip;</td><td>&hellip;</td><td>&hellip;</td><td>&hellip;</td><td>&hellip;</td><td>&hellip;</td><td>&hellip;</td><td>&hellip;</td><td>&hellip;</td><td>&hellip;</td><td>&hellip;</td><td>&hellip;</td><td>&hellip;</td><td>&hellip;</td><td>&hellip;</td><td>&hellip;</td><td>&hellip;</td><td>&hellip;</td><td>&hellip;</td><td>&hellip;</td><td>&hellip;</td><td>&hellip;</td><td>&hellip;</td><td>&hellip;</td><td>&hellip;</td><td>&hellip;</td><td>&hellip;</td><td>&hellip;</td><td>&hellip;</td><td>&hellip;</td><td>&hellip;</td><td>&hellip;</td><td>&hellip;</td><td>&hellip;</td><td>&hellip;</td><td>&hellip;</td><td>&hellip;</td><td>&hellip;</td><td>&hellip;</td><td>&hellip;</td><td>&hellip;</td><td>&hellip;</td><td>&hellip;</td><td>&hellip;</td><td>&hellip;</td><td>&hellip;</td><td>&hellip;</td><td>&hellip;</td><td>&hellip;</td><td>&hellip;</td><td>&hellip;</td><td>&hellip;</td><td>&hellip;</td><td>&hellip;</td><td>&hellip;</td><td>&hellip;</td><td>&hellip;</td><td>&hellip;</td><td>&hellip;</td><td>&hellip;</td><td>&hellip;</td><td>&hellip;</td><td>&hellip;</td></tr><tr><td>1276</td><td>&quot;Job_Title_21&quot;</td><td>2024-06-01</td><td>&quot;High&quot;</td><td>&quot;A&quot;</td><td>0.5391</td><td>0</td><td>0</td><td>0</td><td>1</td><td>0</td><td>0</td><td>0</td><td>null</td><td>1</td><td>0</td><td>0.247692</td><td>2.241664</td><td>-0.773778</td><td>-0.349046</td><td>-0.112922</td><td>-0.44366</td><td>-0.623765</td><td>-0.57448</td><td>-0.646541</td><td>0.056761</td><td>-0.608944</td><td>-0.674689</td><td>0.141252</td><td>-0.477024</td><td>-0.348456</td><td>-0.120051</td><td>0.207638</td><td>0.012005</td><td>0.117197</td><td>-0.292721</td><td>3.531815</td><td>&hellip;</td><td>0.164311</td><td>-0.198417</td><td>-0.426756</td><td>-0.255219</td><td>-0.174296</td><td>0.400743</td><td>-0.480432</td><td>0.67929</td><td>0.175697</td><td>-0.340478</td><td>0.430571</td><td>0.329472</td><td>0.072007</td><td>-0.448444</td><td>0.001027</td><td>0.31668</td><td>0.310137</td><td>-0.763874</td><td>-0.120096</td><td>0.167375</td><td>-0.401628</td><td>-0.434618</td><td>0.070153</td><td>-0.089303</td><td>-0.471856</td><td>0.002497</td><td>0.245694</td><td>0.251105</td><td>0.119141</td><td>-0.184764</td><td>-0.482634</td><td>-0.819574</td><td>-0.241306</td><td>67</td><td>6</td><td>8.85177</td><td>87957.0</td></tr><tr><td>1277</td><td>&quot;Others&quot;</td><td>2024-07-01</td><td>&quot;High&quot;</td><td>&quot;A&quot;</td><td>0.7151</td><td>1</td><td>0</td><td>0</td><td>1</td><td>1</td><td>0</td><td>0</td><td>null</td><td>1</td><td>0</td><td>-0.000119</td><td>2.386898</td><td>-0.56826</td><td>-0.072558</td><td>-0.176302</td><td>0.119118</td><td>-0.414387</td><td>-0.924835</td><td>-0.025357</td><td>0.178054</td><td>-0.441924</td><td>-0.684222</td><td>0.417051</td><td>-0.119762</td><td>0.342301</td><td>-0.517594</td><td>0.345503</td><td>-0.205205</td><td>0.027391</td><td>0.139779</td><td>3.666357</td><td>&hellip;</td><td>-0.390905</td><td>-0.307105</td><td>0.192189</td><td>0.139593</td><td>-0.071225</td><td>0.049805</td><td>-0.657543</td><td>0.623251</td><td>-0.420262</td><td>-0.578801</td><td>0.212982</td><td>-0.393071</td><td>0.313594</td><td>-0.320288</td><td>-0.315026</td><td>0.758135</td><td>0.155649</td><td>-0.873734</td><td>-0.305164</td><td>-0.365587</td><td>-0.214003</td><td>-0.4338</td><td>-0.040142</td><td>-0.079315</td><td>-0.796785</td><td>0.154025</td><td>-0.462344</td><td>-0.053803</td><td>-0.297083</td><td>-0.277624</td><td>-0.924568</td><td>-0.897608</td><td>-0.236864</td><td>68</td><td>7</td><td>9.095124</td><td>87957.0</td></tr><tr><td>1278</td><td>&quot;Job_Title_10&quot;</td><td>2024-08-01</td><td>&quot;Medium&quot;</td><td>&quot;A&quot;</td><td>0.5791</td><td>0</td><td>0</td><td>0</td><td>1</td><td>0</td><td>0</td><td>0</td><td>null</td><td>1</td><td>0</td><td>0.020596</td><td>1.710889</td><td>-0.127225</td><td>0.094155</td><td>-0.230931</td><td>-0.094211</td><td>-0.46473</td><td>-0.41512</td><td>-0.250254</td><td>0.244051</td><td>-0.254329</td><td>-0.507631</td><td>0.550465</td><td>-0.464457</td><td>-0.121907</td><td>0.007778</td><td>0.291175</td><td>-0.519736</td><td>0.39407</td><td>-0.202267</td><td>3.905797</td><td>&hellip;</td><td>-0.284269</td><td>-0.52272</td><td>-0.102024</td><td>-0.273132</td><td>0.162582</td><td>0.256406</td><td>-0.629145</td><td>0.296464</td><td>-0.180029</td><td>-0.076404</td><td>0.291573</td><td>-0.15575</td><td>0.201018</td><td>-0.546103</td><td>-0.157728</td><td>0.500035</td><td>0.25401</td><td>-0.608748</td><td>0.074008</td><td>0.082367</td><td>-0.024769</td><td>-0.440734</td><td>0.158114</td><td>-0.030367</td><td>-0.329539</td><td>-0.429462</td><td>-0.141221</td><td>0.119336</td><td>-0.483549</td><td>-0.146601</td><td>-0.715821</td><td>-0.739832</td><td>-0.128655</td><td>69</td><td>8</td><td>8.460282</td><td>93391.0</td></tr><tr><td>1279</td><td>&quot;Job_Title_2&quot;</td><td>2024-07-01</td><td>&quot;Medium&quot;</td><td>&quot;A&quot;</td><td>0.7082</td><td>0</td><td>0</td><td>0</td><td>1</td><td>0</td><td>0</td><td>0</td><td>null</td><td>1</td><td>0</td><td>0.385978</td><td>2.305014</td><td>-0.250134</td><td>0.010997</td><td>0.008592</td><td>-0.393612</td><td>-0.502189</td><td>-0.598519</td><td>-0.6647</td><td>-0.041492</td><td>-0.892154</td><td>-1.014702</td><td>0.575211</td><td>-0.43306</td><td>0.173855</td><td>-0.284825</td><td>0.121565</td><td>-0.224954</td><td>0.409088</td><td>-0.195918</td><td>3.55353</td><td>&hellip;</td><td>0.174257</td><td>-0.57923</td><td>0.045546</td><td>-0.366639</td><td>-0.222223</td><td>0.08138</td><td>-0.169502</td><td>0.584033</td><td>-0.224276</td><td>-0.285235</td><td>0.397047</td><td>-0.141591</td><td>0.413654</td><td>-0.673819</td><td>-0.387608</td><td>0.256822</td><td>0.142165</td><td>-0.689537</td><td>-0.110737</td><td>-0.260208</td><td>-0.196423</td><td>-0.511908</td><td>-0.446026</td><td>-0.213866</td><td>-0.242665</td><td>-0.311564</td><td>-0.032751</td><td>-0.301447</td><td>-0.480434</td><td>-0.112401</td><td>-0.828844</td><td>-1.066424</td><td>-0.228583</td><td>68</td><td>7</td><td>9.498258</td><td>87957.0</td></tr><tr><td>1280</td><td>&quot;Job_Title_1&quot;</td><td>2024-07-01</td><td>&quot;Medium&quot;</td><td>&quot;A&quot;</td><td>0.5997</td><td>0</td><td>0</td><td>1</td><td>1</td><td>1</td><td>0</td><td>0</td><td>36.0</td><td>1</td><td>0</td><td>0.276502</td><td>2.362514</td><td>-0.311881</td><td>-0.314943</td><td>-0.120564</td><td>-0.346545</td><td>-0.538098</td><td>-0.561801</td><td>-0.507609</td><td>0.109028</td><td>-0.416789</td><td>-0.537681</td><td>0.400847</td><td>-0.245076</td><td>-0.062089</td><td>0.411445</td><td>0.409933</td><td>-0.440644</td><td>0.442484</td><td>-0.232069</td><td>3.377306</td><td>&hellip;</td><td>0.204958</td><td>-0.256772</td><td>-0.087136</td><td>-0.550882</td><td>-0.192647</td><td>0.271607</td><td>-0.186132</td><td>0.498985</td><td>-0.058023</td><td>-0.433207</td><td>0.377525</td><td>-0.113898</td><td>0.600979</td><td>-0.475422</td><td>-0.382745</td><td>0.561544</td><td>-0.034079</td><td>-0.631298</td><td>-0.002278</td><td>0.039341</td><td>0.096617</td><td>-0.224361</td><td>-0.064944</td><td>-0.181357</td><td>-0.721596</td><td>-0.324486</td><td>-0.084486</td><td>-0.100463</td><td>-0.329224</td><td>-0.369456</td><td>-0.872554</td><td>-0.82908</td><td>-0.08149</td><td>68</td><td>7</td><td>9.229448</td><td>93391.0</td></tr></tbody></table></div>"
      ]
     },
     "execution_count": 3,
     "metadata": {},
     "output_type": "execute_result"
    }
   ],
   "execution_count": 3
  },
  {
   "metadata": {
    "ExecuteTime": {
     "end_time": "2025-05-05T08:19:08.267677Z",
     "start_time": "2025-05-05T08:19:08.258740Z"
    }
   },
   "cell_type": "code",
   "source": [
    "le_jt = LabelEncoder().fit(data[\"job_title\"])\n",
    "a = le_jt.transform(data[\"job_title\"])\n",
    "a"
   ],
   "id": "5a89ee4bfcee784",
   "outputs": [
    {
     "data": {
      "text/plain": [
       "array([27,  0, 27, ...,  1, 11,  0], shape=(1280,))"
      ]
     },
     "execution_count": 4,
     "metadata": {},
     "output_type": "execute_result"
    }
   ],
   "execution_count": 4
  },
  {
   "metadata": {
    "ExecuteTime": {
     "end_time": "2025-05-05T08:19:08.341622Z",
     "start_time": "2025-05-05T08:19:08.334116Z"
    }
   },
   "cell_type": "code",
   "source": "data[\"feature_7\"].value_counts()",
   "id": "6220a2fae29cbf33",
   "outputs": [
    {
     "data": {
      "text/plain": [
       "shape: (2, 2)\n",
       "┌───────────┬───────┐\n",
       "│ feature_7 ┆ count │\n",
       "│ ---       ┆ ---   │\n",
       "│ i32       ┆ u32   │\n",
       "╞═══════════╪═══════╡\n",
       "│ 0         ┆ 740   │\n",
       "│ 1         ┆ 540   │\n",
       "└───────────┴───────┘"
      ],
      "text/html": [
       "<div><style>\n",
       ".dataframe > thead > tr,\n",
       ".dataframe > tbody > tr {\n",
       "  text-align: right;\n",
       "  white-space: pre-wrap;\n",
       "}\n",
       "</style>\n",
       "<small>shape: (2, 2)</small><table border=\"1\" class=\"dataframe\"><thead><tr><th>feature_7</th><th>count</th></tr><tr><td>i32</td><td>u32</td></tr></thead><tbody><tr><td>0</td><td>740</td></tr><tr><td>1</td><td>540</td></tr></tbody></table></div>"
      ]
     },
     "execution_count": 5,
     "metadata": {},
     "output_type": "execute_result"
    }
   ],
   "execution_count": 5
  },
  {
   "metadata": {
    "ExecuteTime": {
     "end_time": "2025-05-05T08:19:08.554443Z",
     "start_time": "2025-05-05T08:19:08.544121Z"
    }
   },
   "cell_type": "code",
   "source": "data[\"feature_1\"].value_counts()",
   "id": "3319320ed222251f",
   "outputs": [
    {
     "data": {
      "text/plain": [
       "shape: (5, 2)\n",
       "┌───────────┬───────┐\n",
       "│ feature_1 ┆ count │\n",
       "│ ---       ┆ ---   │\n",
       "│ cat       ┆ u32   │\n",
       "╞═══════════╪═══════╡\n",
       "│ A         ┆ 1232  │\n",
       "│ C         ┆ 6     │\n",
       "│ D         ┆ 5     │\n",
       "│ B         ┆ 36    │\n",
       "│ E         ┆ 1     │\n",
       "└───────────┴───────┘"
      ],
      "text/html": [
       "<div><style>\n",
       ".dataframe > thead > tr,\n",
       ".dataframe > tbody > tr {\n",
       "  text-align: right;\n",
       "  white-space: pre-wrap;\n",
       "}\n",
       "</style>\n",
       "<small>shape: (5, 2)</small><table border=\"1\" class=\"dataframe\"><thead><tr><th>feature_1</th><th>count</th></tr><tr><td>cat</td><td>u32</td></tr></thead><tbody><tr><td>&quot;A&quot;</td><td>1232</td></tr><tr><td>&quot;C&quot;</td><td>6</td></tr><tr><td>&quot;D&quot;</td><td>5</td></tr><tr><td>&quot;B&quot;</td><td>36</td></tr><tr><td>&quot;E&quot;</td><td>1</td></tr></tbody></table></div>"
      ]
     },
     "execution_count": 6,
     "metadata": {},
     "output_type": "execute_result"
    }
   ],
   "execution_count": 6
  },
  {
   "metadata": {
    "ExecuteTime": {
     "end_time": "2025-05-05T08:19:09.158421Z",
     "start_time": "2025-05-05T08:19:09.146430Z"
    }
   },
   "cell_type": "code",
   "source": "data[\"months_since_ref\"].value_counts()",
   "id": "9ee16bd057a58c65",
   "outputs": [
    {
     "data": {
      "text/plain": [
       "shape: (42, 2)\n",
       "┌──────────────────┬───────┐\n",
       "│ months_since_ref ┆ count │\n",
       "│ ---              ┆ ---   │\n",
       "│ i32              ┆ u32   │\n",
       "╞══════════════════╪═══════╡\n",
       "│ 58               ┆ 24    │\n",
       "│ 54               ┆ 7     │\n",
       "│ 37               ┆ 2     │\n",
       "│ 47               ┆ 4     │\n",
       "│ 64               ┆ 29    │\n",
       "│ …                ┆ …     │\n",
       "│ 63               ┆ 24    │\n",
       "│ 41               ┆ 5     │\n",
       "│ 43               ┆ 1     │\n",
       "│ 27               ┆ 3     │\n",
       "│ 40               ┆ 13    │\n",
       "└──────────────────┴───────┘"
      ],
      "text/html": [
       "<div><style>\n",
       ".dataframe > thead > tr,\n",
       ".dataframe > tbody > tr {\n",
       "  text-align: right;\n",
       "  white-space: pre-wrap;\n",
       "}\n",
       "</style>\n",
       "<small>shape: (42, 2)</small><table border=\"1\" class=\"dataframe\"><thead><tr><th>months_since_ref</th><th>count</th></tr><tr><td>i32</td><td>u32</td></tr></thead><tbody><tr><td>58</td><td>24</td></tr><tr><td>54</td><td>7</td></tr><tr><td>37</td><td>2</td></tr><tr><td>47</td><td>4</td></tr><tr><td>64</td><td>29</td></tr><tr><td>&hellip;</td><td>&hellip;</td></tr><tr><td>63</td><td>24</td></tr><tr><td>41</td><td>5</td></tr><tr><td>43</td><td>1</td></tr><tr><td>27</td><td>3</td></tr><tr><td>40</td><td>13</td></tr></tbody></table></div>"
      ]
     },
     "execution_count": 7,
     "metadata": {},
     "output_type": "execute_result"
    }
   ],
   "execution_count": 7
  },
  {
   "metadata": {
    "ExecuteTime": {
     "end_time": "2025-05-05T08:19:09.341100Z",
     "start_time": "2025-05-05T08:19:09.333991Z"
    }
   },
   "cell_type": "code",
   "source": "data[\"feature_10\"].value_counts()",
   "id": "3a8a78e5260cad3c",
   "outputs": [
    {
     "data": {
      "text/plain": [
       "shape: (19, 2)\n",
       "┌────────────┬───────┐\n",
       "│ feature_10 ┆ count │\n",
       "│ ---        ┆ ---   │\n",
       "│ f64        ┆ u32   │\n",
       "╞════════════╪═══════╡\n",
       "│ 6.0        ┆ 3     │\n",
       "│ 144.0      ┆ 6     │\n",
       "│ null       ┆ 446   │\n",
       "│ 24.0       ┆ 76    │\n",
       "│ 48.0       ┆ 100   │\n",
       "│ …          ┆ …     │\n",
       "│ 300.0      ┆ 1     │\n",
       "│ 192.0      ┆ 2     │\n",
       "│ 84.0       ┆ 47    │\n",
       "│ 180.0      ┆ 6     │\n",
       "│ 108.0      ┆ 7     │\n",
       "└────────────┴───────┘"
      ],
      "text/html": [
       "<div><style>\n",
       ".dataframe > thead > tr,\n",
       ".dataframe > tbody > tr {\n",
       "  text-align: right;\n",
       "  white-space: pre-wrap;\n",
       "}\n",
       "</style>\n",
       "<small>shape: (19, 2)</small><table border=\"1\" class=\"dataframe\"><thead><tr><th>feature_10</th><th>count</th></tr><tr><td>f64</td><td>u32</td></tr></thead><tbody><tr><td>6.0</td><td>3</td></tr><tr><td>144.0</td><td>6</td></tr><tr><td>null</td><td>446</td></tr><tr><td>24.0</td><td>76</td></tr><tr><td>48.0</td><td>100</td></tr><tr><td>&hellip;</td><td>&hellip;</td></tr><tr><td>300.0</td><td>1</td></tr><tr><td>192.0</td><td>2</td></tr><tr><td>84.0</td><td>47</td></tr><tr><td>180.0</td><td>6</td></tr><tr><td>108.0</td><td>7</td></tr></tbody></table></div>"
      ]
     },
     "execution_count": 8,
     "metadata": {},
     "output_type": "execute_result"
    }
   ],
   "execution_count": 8
  },
  {
   "metadata": {
    "ExecuteTime": {
     "end_time": "2025-05-05T08:19:09.459492Z",
     "start_time": "2025-05-05T08:19:09.454095Z"
    }
   },
   "cell_type": "code",
   "source": "data[\"month\"].value_counts()",
   "id": "8004d8b931026e88",
   "outputs": [
    {
     "data": {
      "text/plain": [
       "shape: (13, 2)\n",
       "┌───────┬───────┐\n",
       "│ month ┆ count │\n",
       "│ ---   ┆ ---   │\n",
       "│ i8    ┆ u32   │\n",
       "╞═══════╪═══════╡\n",
       "│ 9     ┆ 25    │\n",
       "│ 12    ┆ 32    │\n",
       "│ 7     ┆ 611   │\n",
       "│ 5     ┆ 70    │\n",
       "│ 4     ┆ 49    │\n",
       "│ …     ┆ …     │\n",
       "│ 2     ┆ 46    │\n",
       "│ 6     ┆ 156   │\n",
       "│ 8     ┆ 166   │\n",
       "│ 3     ┆ 48    │\n",
       "│ null  ┆ 1     │\n",
       "└───────┴───────┘"
      ],
      "text/html": [
       "<div><style>\n",
       ".dataframe > thead > tr,\n",
       ".dataframe > tbody > tr {\n",
       "  text-align: right;\n",
       "  white-space: pre-wrap;\n",
       "}\n",
       "</style>\n",
       "<small>shape: (13, 2)</small><table border=\"1\" class=\"dataframe\"><thead><tr><th>month</th><th>count</th></tr><tr><td>i8</td><td>u32</td></tr></thead><tbody><tr><td>9</td><td>25</td></tr><tr><td>12</td><td>32</td></tr><tr><td>7</td><td>611</td></tr><tr><td>5</td><td>70</td></tr><tr><td>4</td><td>49</td></tr><tr><td>&hellip;</td><td>&hellip;</td></tr><tr><td>2</td><td>46</td></tr><tr><td>6</td><td>156</td></tr><tr><td>8</td><td>166</td></tr><tr><td>3</td><td>48</td></tr><tr><td>null</td><td>1</td></tr></tbody></table></div>"
      ]
     },
     "execution_count": 9,
     "metadata": {},
     "output_type": "execute_result"
    }
   ],
   "execution_count": 9
  },
  {
   "metadata": {
    "ExecuteTime": {
     "end_time": "2025-05-05T08:19:10.328194Z",
     "start_time": "2025-05-05T08:19:09.614012Z"
    }
   },
   "cell_type": "code",
   "source": [
    "from matplotlib import pyplot as plt\n",
    "import polars as pl\n",
    "\n",
    "# Assume the experience column is named 'feature_10'; adjust if different\n",
    "# Load your dataset as a Polars DataFrame\n",
    "df_pd = data\n",
    "\n",
    "# Fill nulls with 0\n",
    "df_pd = df_pd.fill_null(0)\n",
    "\n",
    "# Convert experience to integer months using with_columns\n",
    "df_pd = df_pd.with_columns([\n",
    "    pl.col(\"feature_10\").cast(pl.Int32).alias(\"feature_10\")\n",
    "])\n",
    "\n",
    "# Prepare data for scatter plot\n",
    "categories = df_pd[\"salary_category\"].unique().to_list()  # Get unique categories\n",
    "\n",
    "# Create the plot\n",
    "fig, ax = plt.subplots(figsize=(8, 5))\n",
    "\n",
    "# Loop through each category and plot the data\n",
    "for i, category in enumerate(categories):\n",
    "    category_data = df_pd.filter(pl.col(\"salary_category\") == category)\n",
    "    ax.scatter(category_data[\"feature_10\"].to_list(), [i] * len(category_data), label=category, alpha=0.5)\n",
    "\n",
    "# Set plot labels and title\n",
    "ax.set_xlabel(\"Required Experience (months)\")\n",
    "ax.set_ylabel(\"Salary Category\")\n",
    "ax.set_title(\"Scatter Plot of Required Experience by Salary Category\")\n",
    "\n",
    "# Set logarithmic scale on the x-axis\n",
    "ax.set_xscale('log')\n",
    "\n",
    "# Add a legend\n",
    "ax.legend(title=\"Salary Category\")\n",
    "\n",
    "# Display the plot\n",
    "plt.tight_layout()\n",
    "plt.show()\n"
   ],
   "id": "bdc22906df2e69e1",
   "outputs": [
    {
     "data": {
      "text/plain": [
       "<Figure size 800x500 with 1 Axes>"
      ],
      "image/png": "[encoded data removed]"
     },
     "metadata": {},
     "output_type": "display_data"
    }
   ],
   "execution_count": 10
  },
  {
   "metadata": {
    "ExecuteTime": {
     "end_time": "2025-05-05T08:19:10.479159Z",
     "start_time": "2025-05-05T08:19:10.458175Z"
    }
   },
   "cell_type": "code",
   "source": [
    "# Assume the experience column is named 'feature_10'; adjust if different\n",
    "df_pd = data\n",
    "\n",
    "# Fill nulls with 0\n",
    "df_pd = df_pd.fill_null(0)\n",
    "\n",
    "# Convert experience to integer months using with_columns\n",
    "df_pd = df_pd.with_columns([\n",
    "    pl.col(\"feature_10\").cast(pl.Int32).alias(\"feature_10\")\n",
    "])\n",
    "\n",
    "# Group by 'salary_category' and 'feature_10' and count the occurrences\n",
    "count_df = df_pd.group_by([\"salary_category\", \"feature_10\"]).agg(\n",
    "    pl.count().alias(\"count\")\n",
    ").sort(\"feature_10\")\n",
    "\n",
    "# Convert the result to a Pandas DataFrame for better visualization (optional)\n",
    "count_df_pd = count_df.to_pandas()\n",
    "\n",
    "# Print the result\n",
    "print(count_df_pd)\n"
   ],
   "id": "225ff94dd0a25a5e",
   "outputs": [
    {
     "name": "stdout",
     "output_type": "stream",
     "text": [
      "   salary_category  feature_10  count\n",
      "0           Medium           0    147\n",
      "1             High           0    122\n",
      "2              Low           0    177\n",
      "3              Low           6      3\n",
      "4             High          12      9\n",
      "5           Medium          12     16\n",
      "6              Low          12     13\n",
      "7              Low          24     26\n",
      "8             High          24     22\n",
      "9           Medium          24     28\n",
      "10            High          36     64\n",
      "11          Medium          36     58\n",
      "12             Low          36     60\n",
      "13             Low          48     34\n",
      "14            High          48     42\n",
      "15          Medium          48     24\n",
      "16          Medium          60     56\n",
      "17            High          60    117\n",
      "18             Low          60     56\n",
      "19          Medium          72     11\n",
      "20            High          72     32\n",
      "21             Low          72     11\n",
      "22             Low          84     12\n",
      "23          Medium          84      7\n",
      "24            High          84     28\n",
      "25            High          96     28\n",
      "26          Medium          96      5\n",
      "27             Low          96      7\n",
      "28            High         108      6\n",
      "29          Medium         108      1\n",
      "30             Low         120     15\n",
      "31            High         120     17\n",
      "32          Medium         120      5\n",
      "33            High         132      3\n",
      "34            High         144      5\n",
      "35             Low         144      1\n",
      "36            High         168      2\n",
      "37             Low         180      2\n",
      "38            High         180      3\n",
      "39          Medium         180      1\n",
      "40             Low         192      1\n",
      "41            High         192      1\n",
      "42             Low         240      1\n",
      "43          Medium         300      1\n"
     ]
    },
    {
     "name": "stderr",
     "output_type": "stream",
     "text": [
      "C:\\Users\\StefanConstantin\\AppData\\Local\\Temp\\ipykernel_27576\\2843333211.py:14: DeprecationWarning: `pl.count()` is deprecated. Please use `pl.len()` instead.\n",
      "  pl.count().alias(\"count\")\n"
     ]
    }
   ],
   "execution_count": 11
  }
 ],
 "metadata": {
  "kernelspec": {
   "display_name": "Python 3",
   "language": "python",
   "name": "python3"
  },
  "language_info": {
   "codemirror_mode": {
    "name": "ipython",
    "version": 2
   },
   "file_extension": ".py",
   "mimetype": "text/x-python",
   "name": "python",
   "nbconvert_exporter": "python",
   "pygments_lexer": "ipython2",
   "version": "2.7.6"
  }
 },
 "nbformat": 4,
 "nbformat_minor": 5
}
