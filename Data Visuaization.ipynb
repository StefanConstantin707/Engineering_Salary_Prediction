{
 "cells": [
  {
   "cell_type": "code",
   "id": "initial_id",
   "metadata": {
    "collapsed": true,
    "ExecuteTime": {
     "end_time": "2025-05-03T11:44:57.357321Z",
     "start_time": "2025-05-03T11:44:57.354293Z"
    }
   },
   "source": [
    "import pandas as pd\n",
    "import polars as pl\n",
    "import matplotlib.pyplot as plt\n",
    "import numpy as np\n",
    "import seaborn as sns\n",
    "import statsmodels.api as sm\n",
    "from sklearn.model_selection import cross_val_score\n",
    "from sklearn.preprocessing import OneHotEncoder, LabelBinarizer, LabelEncoder"
   ],
   "outputs": [],
   "execution_count": 24
  },
  {
   "metadata": {
    "ExecuteTime": {
     "end_time": "2025-05-03T11:44:57.424355Z",
     "start_time": "2025-05-03T11:44:57.396202Z"
    }
   },
   "cell_type": "code",
   "source": [
    "df = pl.read_csv(\"./data/raw_data/train.csv\")\n",
    "mini_df = df[:, :17]\n",
    "mini_df.describe()"
   ],
   "id": "ef4d2ea02116f7a6",
   "outputs": [
    {
     "data": {
      "text/plain": [
       "shape: (9, 18)\n",
       "┌───────────┬───────────┬───────────┬───────────┬───┬───────────┬───────────┬───────────┬──────────┐\n",
       "│ statistic ┆ obs       ┆ job_title ┆ job_poste ┆ … ┆ feature_9 ┆ feature_1 ┆ feature_1 ┆ feature_ │\n",
       "│ ---       ┆ ---       ┆ ---       ┆ d_date    ┆   ┆ ---       ┆ 0         ┆ 1         ┆ 12       │\n",
       "│ str       ┆ f64       ┆ str       ┆ ---       ┆   ┆ f64       ┆ ---       ┆ ---       ┆ ---      │\n",
       "│           ┆           ┆           ┆ str       ┆   ┆           ┆ f64       ┆ f64       ┆ f64      │\n",
       "╞═══════════╪═══════════╪═══════════╪═══════════╪═══╪═══════════╪═══════════╪═══════════╪══════════╡\n",
       "│ count     ┆ 1280.0    ┆ 1280      ┆ 1279      ┆ … ┆ 1280.0    ┆ 834.0     ┆ 1280.0    ┆ 1280.0   │\n",
       "│ null_coun ┆ 0.0       ┆ 0         ┆ 1         ┆ … ┆ 0.0       ┆ 446.0     ┆ 0.0       ┆ 0.0      │\n",
       "│ t         ┆           ┆           ┆           ┆   ┆           ┆           ┆           ┆          │\n",
       "│ mean      ┆ 640.5     ┆ null      ┆ null      ┆ … ┆ 0.010156  ┆ 57.388489 ┆ 0.955469  ┆ 0.265625 │\n",
       "│ std       ┆ 369.64848 ┆ null      ┆ null      ┆ … ┆ null      ┆ 31.695205 ┆ null      ┆ null     │\n",
       "│           ┆ 2         ┆           ┆           ┆   ┆           ┆           ┆           ┆          │\n",
       "│ min       ┆ 1.0       ┆ Job_Title ┆ 2018/11   ┆ … ┆ 0.0       ┆ 6.0       ┆ 0.0       ┆ 0.0      │\n",
       "│           ┆           ┆ _1        ┆           ┆   ┆           ┆           ┆           ┆          │\n",
       "│ 25%       ┆ 321.0     ┆ null      ┆ null      ┆ … ┆ null      ┆ 36.0      ┆ null      ┆ null     │\n",
       "│ 50%       ┆ 641.0     ┆ null      ┆ null      ┆ … ┆ null      ┆ 60.0      ┆ null      ┆ null     │\n",
       "│ 75%       ┆ 960.0     ┆ null      ┆ null      ┆ … ┆ null      ┆ 60.0      ┆ null      ┆ null     │\n",
       "│ max       ┆ 1280.0    ┆ Others    ┆ 2024/08   ┆ … ┆ 1.0       ┆ 300.0     ┆ 1.0       ┆ 1.0      │\n",
       "└───────────┴───────────┴───────────┴───────────┴───┴───────────┴───────────┴───────────┴──────────┘"
      ],
      "text/html": [
       "<div><style>\n",
       ".dataframe > thead > tr,\n",
       ".dataframe > tbody > tr {\n",
       "  text-align: right;\n",
       "  white-space: pre-wrap;\n",
       "}\n",
       "</style>\n",
       "<small>shape: (9, 18)</small><table border=\"1\" class=\"dataframe\"><thead><tr><th>statistic</th><th>obs</th><th>job_title</th><th>job_posted_date</th><th>salary_category</th><th>job_state</th><th>feature_1</th><th>feature_2</th><th>feature_3</th><th>feature_4</th><th>feature_5</th><th>feature_6</th><th>feature_7</th><th>feature_8</th><th>feature_9</th><th>feature_10</th><th>feature_11</th><th>feature_12</th></tr><tr><td>str</td><td>f64</td><td>str</td><td>str</td><td>str</td><td>str</td><td>str</td><td>f64</td><td>f64</td><td>f64</td><td>f64</td><td>f64</td><td>f64</td><td>f64</td><td>f64</td><td>f64</td><td>f64</td><td>f64</td></tr></thead><tbody><tr><td>&quot;count&quot;</td><td>1280.0</td><td>&quot;1280&quot;</td><td>&quot;1279&quot;</td><td>&quot;1280&quot;</td><td>&quot;1253&quot;</td><td>&quot;1280&quot;</td><td>1280.0</td><td>1280.0</td><td>1280.0</td><td>1280.0</td><td>1280.0</td><td>1280.0</td><td>1280.0</td><td>1280.0</td><td>834.0</td><td>1280.0</td><td>1280.0</td></tr><tr><td>&quot;null_count&quot;</td><td>0.0</td><td>&quot;0&quot;</td><td>&quot;1&quot;</td><td>&quot;0&quot;</td><td>&quot;27&quot;</td><td>&quot;0&quot;</td><td>0.0</td><td>0.0</td><td>0.0</td><td>0.0</td><td>0.0</td><td>0.0</td><td>0.0</td><td>0.0</td><td>446.0</td><td>0.0</td><td>0.0</td></tr><tr><td>&quot;mean&quot;</td><td>640.5</td><td>null</td><td>null</td><td>null</td><td>null</td><td>null</td><td>0.592414</td><td>0.114844</td><td>0.047656</td><td>0.163281</td><td>0.671094</td><td>0.421875</td><td>0.178906</td><td>0.010156</td><td>57.388489</td><td>0.955469</td><td>0.265625</td></tr><tr><td>&quot;std&quot;</td><td>369.648482</td><td>null</td><td>null</td><td>null</td><td>null</td><td>null</td><td>0.108669</td><td>null</td><td>null</td><td>null</td><td>null</td><td>null</td><td>null</td><td>null</td><td>31.695205</td><td>null</td><td>null</td></tr><tr><td>&quot;min&quot;</td><td>1.0</td><td>&quot;Job_Title_1&quot;</td><td>&quot;2018/11&quot;</td><td>&quot;High&quot;</td><td>&quot;AK&quot;</td><td>&quot;A&quot;</td><td>0.3773</td><td>0.0</td><td>0.0</td><td>0.0</td><td>0.0</td><td>0.0</td><td>0.0</td><td>0.0</td><td>6.0</td><td>0.0</td><td>0.0</td></tr><tr><td>&quot;25%&quot;</td><td>321.0</td><td>null</td><td>null</td><td>null</td><td>null</td><td>null</td><td>0.4705</td><td>null</td><td>null</td><td>null</td><td>null</td><td>null</td><td>null</td><td>null</td><td>36.0</td><td>null</td><td>null</td></tr><tr><td>&quot;50%&quot;</td><td>641.0</td><td>null</td><td>null</td><td>null</td><td>null</td><td>null</td><td>0.5995</td><td>null</td><td>null</td><td>null</td><td>null</td><td>null</td><td>null</td><td>null</td><td>60.0</td><td>null</td><td>null</td></tr><tr><td>&quot;75%&quot;</td><td>960.0</td><td>null</td><td>null</td><td>null</td><td>null</td><td>null</td><td>0.6853</td><td>null</td><td>null</td><td>null</td><td>null</td><td>null</td><td>null</td><td>null</td><td>60.0</td><td>null</td><td>null</td></tr><tr><td>&quot;max&quot;</td><td>1280.0</td><td>&quot;Others&quot;</td><td>&quot;2024/08&quot;</td><td>&quot;Medium&quot;</td><td>&quot;WA&quot;</td><td>&quot;E&quot;</td><td>0.9063</td><td>1.0</td><td>1.0</td><td>1.0</td><td>1.0</td><td>1.0</td><td>1.0</td><td>1.0</td><td>300.0</td><td>1.0</td><td>1.0</td></tr></tbody></table></div>"
      ]
     },
     "execution_count": 25,
     "metadata": {},
     "output_type": "execute_result"
    }
   ],
   "execution_count": 25
  },
  {
   "metadata": {
    "ExecuteTime": {
     "end_time": "2025-05-03T18:20:31.981959Z",
     "start_time": "2025-05-03T18:20:31.822859Z"
    }
   },
   "cell_type": "code",
   "source": "df.describe()",
   "id": "5caf71832c821a6",
   "outputs": [
    {
     "data": {
      "text/plain": [
       "shape: (9, 318)\n",
       "┌───────────┬───────────┬───────────┬───────────┬───┬───────────┬───────────┬───────────┬──────────┐\n",
       "│ statistic ┆ obs       ┆ job_title ┆ job_poste ┆ … ┆ job_desc_ ┆ job_desc_ ┆ job_desc_ ┆ job_desc │\n",
       "│ ---       ┆ ---       ┆ ---       ┆ d_date    ┆   ┆ 297       ┆ 298       ┆ 299       ┆ _300     │\n",
       "│ str       ┆ f64       ┆ str       ┆ ---       ┆   ┆ ---       ┆ ---       ┆ ---       ┆ ---      │\n",
       "│           ┆           ┆           ┆ str       ┆   ┆ f64       ┆ f64       ┆ f64       ┆ f64      │\n",
       "╞═══════════╪═══════════╪═══════════╪═══════════╪═══╪═══════════╪═══════════╪═══════════╪══════════╡\n",
       "│ count     ┆ 1280.0    ┆ 1280      ┆ 1279      ┆ … ┆ 1280.0    ┆ 1280.0    ┆ 1280.0    ┆ 1280.0   │\n",
       "│ null_coun ┆ 0.0       ┆ 0         ┆ 1         ┆ … ┆ 0.0       ┆ 0.0       ┆ 0.0       ┆ 0.0      │\n",
       "│ t         ┆           ┆           ┆           ┆   ┆           ┆           ┆           ┆          │\n",
       "│ mean      ┆ 640.5     ┆ null      ┆ null      ┆ … ┆ -0.125236 ┆ -0.609413 ┆ -0.697959 ┆ -0.06560 │\n",
       "│           ┆           ┆           ┆           ┆   ┆           ┆           ┆           ┆ 7        │\n",
       "│ std       ┆ 369.64848 ┆ null      ┆ null      ┆ … ┆ 0.160217  ┆ 0.280257  ┆ 0.333347  ┆ 0.149354 │\n",
       "│           ┆ 2         ┆           ┆           ┆   ┆           ┆           ┆           ┆          │\n",
       "│ min       ┆ 1.0       ┆ Job_Title ┆ 2018/11   ┆ … ┆ -1.427914 ┆ -1.273351 ┆ -1.448333 ┆ -1.56356 │\n",
       "│           ┆           ┆ _1        ┆           ┆   ┆           ┆           ┆           ┆ 7        │\n",
       "│ 25%       ┆ 321.0     ┆ null      ┆ null      ┆ … ┆ -0.220456 ┆ -0.779769 ┆ -0.912903 ┆ -0.15556 │\n",
       "│           ┆           ┆           ┆           ┆   ┆           ┆           ┆           ┆ 3        │\n",
       "│ 50%       ┆ 641.0     ┆ null      ┆ null      ┆ … ┆ -0.102287 ┆ -0.666345 ┆ -0.789784 ┆ -0.04832 │\n",
       "│           ┆           ┆           ┆           ┆   ┆           ┆           ┆           ┆ 6        │\n",
       "│ 75%       ┆ 960.0     ┆ null      ┆ null      ┆ … ┆ 0.0       ┆ -0.53436  ┆ -0.584597 ┆ 0.008719 │\n",
       "│ max       ┆ 1280.0    ┆ Others    ┆ 2024/08   ┆ … ┆ 0.236223  ┆ 0.0       ┆ 0.232129  ┆ 0.460499 │\n",
       "└───────────┴───────────┴───────────┴───────────┴───┴───────────┴───────────┴───────────┴──────────┘"
      ],
      "text/html": [
       "<div><style>\n",
       ".dataframe > thead > tr,\n",
       ".dataframe > tbody > tr {\n",
       "  text-align: right;\n",
       "  white-space: pre-wrap;\n",
       "}\n",
       "</style>\n",
       "<small>shape: (9, 318)</small><table border=\"1\" class=\"dataframe\"><thead><tr><th>statistic</th><th>obs</th><th>job_title</th><th>job_posted_date</th><th>salary_category</th><th>job_state</th><th>feature_1</th><th>feature_2</th><th>feature_3</th><th>feature_4</th><th>feature_5</th><th>feature_6</th><th>feature_7</th><th>feature_8</th><th>feature_9</th><th>feature_10</th><th>feature_11</th><th>feature_12</th><th>job_desc_001</th><th>job_desc_002</th><th>job_desc_003</th><th>job_desc_004</th><th>job_desc_005</th><th>job_desc_006</th><th>job_desc_007</th><th>job_desc_008</th><th>job_desc_009</th><th>job_desc_010</th><th>job_desc_011</th><th>job_desc_012</th><th>job_desc_013</th><th>job_desc_014</th><th>job_desc_015</th><th>job_desc_016</th><th>job_desc_017</th><th>job_desc_018</th><th>job_desc_019</th><th>&hellip;</th><th>job_desc_264</th><th>job_desc_265</th><th>job_desc_266</th><th>job_desc_267</th><th>job_desc_268</th><th>job_desc_269</th><th>job_desc_270</th><th>job_desc_271</th><th>job_desc_272</th><th>job_desc_273</th><th>job_desc_274</th><th>job_desc_275</th><th>job_desc_276</th><th>job_desc_277</th><th>job_desc_278</th><th>job_desc_279</th><th>job_desc_280</th><th>job_desc_281</th><th>job_desc_282</th><th>job_desc_283</th><th>job_desc_284</th><th>job_desc_285</th><th>job_desc_286</th><th>job_desc_287</th><th>job_desc_288</th><th>job_desc_289</th><th>job_desc_290</th><th>job_desc_291</th><th>job_desc_292</th><th>job_desc_293</th><th>job_desc_294</th><th>job_desc_295</th><th>job_desc_296</th><th>job_desc_297</th><th>job_desc_298</th><th>job_desc_299</th><th>job_desc_300</th></tr><tr><td>str</td><td>f64</td><td>str</td><td>str</td><td>str</td><td>str</td><td>str</td><td>f64</td><td>f64</td><td>f64</td><td>f64</td><td>f64</td><td>f64</td><td>f64</td><td>f64</td><td>f64</td><td>f64</td><td>f64</td><td>f64</td><td>f64</td><td>f64</td><td>f64</td><td>f64</td><td>f64</td><td>f64</td><td>f64</td><td>f64</td><td>f64</td><td>f64</td><td>f64</td><td>f64</td><td>f64</td><td>f64</td><td>f64</td><td>f64</td><td>f64</td><td>f64</td><td>&hellip;</td><td>f64</td><td>f64</td><td>f64</td><td>f64</td><td>f64</td><td>f64</td><td>f64</td><td>f64</td><td>f64</td><td>f64</td><td>f64</td><td>f64</td><td>f64</td><td>f64</td><td>f64</td><td>f64</td><td>f64</td><td>f64</td><td>f64</td><td>f64</td><td>f64</td><td>f64</td><td>f64</td><td>f64</td><td>f64</td><td>f64</td><td>f64</td><td>f64</td><td>f64</td><td>f64</td><td>f64</td><td>f64</td><td>f64</td><td>f64</td><td>f64</td><td>f64</td><td>f64</td></tr></thead><tbody><tr><td>&quot;count&quot;</td><td>1280.0</td><td>&quot;1280&quot;</td><td>&quot;1279&quot;</td><td>&quot;1280&quot;</td><td>&quot;1253&quot;</td><td>&quot;1280&quot;</td><td>1280.0</td><td>1280.0</td><td>1280.0</td><td>1280.0</td><td>1280.0</td><td>1280.0</td><td>1280.0</td><td>1280.0</td><td>834.0</td><td>1280.0</td><td>1280.0</td><td>1280.0</td><td>1280.0</td><td>1280.0</td><td>1280.0</td><td>1280.0</td><td>1280.0</td><td>1280.0</td><td>1280.0</td><td>1280.0</td><td>1280.0</td><td>1280.0</td><td>1280.0</td><td>1280.0</td><td>1280.0</td><td>1280.0</td><td>1280.0</td><td>1280.0</td><td>1280.0</td><td>1280.0</td><td>&hellip;</td><td>1280.0</td><td>1280.0</td><td>1280.0</td><td>1280.0</td><td>1280.0</td><td>1280.0</td><td>1280.0</td><td>1280.0</td><td>1280.0</td><td>1280.0</td><td>1280.0</td><td>1280.0</td><td>1280.0</td><td>1280.0</td><td>1280.0</td><td>1280.0</td><td>1280.0</td><td>1280.0</td><td>1280.0</td><td>1280.0</td><td>1280.0</td><td>1280.0</td><td>1280.0</td><td>1280.0</td><td>1280.0</td><td>1280.0</td><td>1280.0</td><td>1280.0</td><td>1280.0</td><td>1280.0</td><td>1280.0</td><td>1280.0</td><td>1280.0</td><td>1280.0</td><td>1280.0</td><td>1280.0</td><td>1280.0</td></tr><tr><td>&quot;null_count&quot;</td><td>0.0</td><td>&quot;0&quot;</td><td>&quot;1&quot;</td><td>&quot;0&quot;</td><td>&quot;27&quot;</td><td>&quot;0&quot;</td><td>0.0</td><td>0.0</td><td>0.0</td><td>0.0</td><td>0.0</td><td>0.0</td><td>0.0</td><td>0.0</td><td>446.0</td><td>0.0</td><td>0.0</td><td>0.0</td><td>0.0</td><td>0.0</td><td>0.0</td><td>0.0</td><td>0.0</td><td>0.0</td><td>0.0</td><td>0.0</td><td>0.0</td><td>0.0</td><td>0.0</td><td>0.0</td><td>0.0</td><td>0.0</td><td>0.0</td><td>0.0</td><td>0.0</td><td>0.0</td><td>&hellip;</td><td>0.0</td><td>0.0</td><td>0.0</td><td>0.0</td><td>0.0</td><td>0.0</td><td>0.0</td><td>0.0</td><td>0.0</td><td>0.0</td><td>0.0</td><td>0.0</td><td>0.0</td><td>0.0</td><td>0.0</td><td>0.0</td><td>0.0</td><td>0.0</td><td>0.0</td><td>0.0</td><td>0.0</td><td>0.0</td><td>0.0</td><td>0.0</td><td>0.0</td><td>0.0</td><td>0.0</td><td>0.0</td><td>0.0</td><td>0.0</td><td>0.0</td><td>0.0</td><td>0.0</td><td>0.0</td><td>0.0</td><td>0.0</td><td>0.0</td></tr><tr><td>&quot;mean&quot;</td><td>640.5</td><td>null</td><td>null</td><td>null</td><td>null</td><td>null</td><td>0.592414</td><td>0.114844</td><td>0.047656</td><td>0.163281</td><td>0.671094</td><td>0.421875</td><td>0.178906</td><td>0.010156</td><td>57.388489</td><td>0.955469</td><td>0.265625</td><td>0.195011</td><td>1.775129</td><td>-0.471561</td><td>-0.106538</td><td>-0.056146</td><td>-0.283087</td><td>-0.489879</td><td>-0.394381</td><td>-0.433959</td><td>0.250222</td><td>-0.272348</td><td>-0.555366</td><td>0.348308</td><td>-0.247826</td><td>0.09907</td><td>-0.040115</td><td>0.13444</td><td>-0.256554</td><td>0.358016</td><td>&hellip;</td><td>-0.570992</td><td>-0.137683</td><td>0.320998</td><td>-0.086025</td><td>0.074018</td><td>-0.30658</td><td>-0.058764</td><td>-0.303084</td><td>-0.065431</td><td>0.2998</td><td>-0.415419</td><td>0.43671</td><td>-0.139069</td><td>-0.202394</td><td>0.200998</td><td>-0.070996</td><td>0.278148</td><td>-0.536593</td><td>-0.026847</td><td>0.318656</td><td>0.262736</td><td>-0.647137</td><td>-0.097833</td><td>-0.106543</td><td>0.064172</td><td>-0.449721</td><td>-0.153953</td><td>-0.229636</td><td>-0.504288</td><td>-0.3373</td><td>-0.205454</td><td>0.062491</td><td>-0.289679</td><td>-0.125236</td><td>-0.609413</td><td>-0.697959</td><td>-0.065607</td></tr><tr><td>&quot;std&quot;</td><td>369.648482</td><td>null</td><td>null</td><td>null</td><td>null</td><td>null</td><td>0.108669</td><td>null</td><td>null</td><td>null</td><td>null</td><td>null</td><td>null</td><td>null</td><td>31.695205</td><td>null</td><td>null</td><td>0.223345</td><td>0.786083</td><td>0.291197</td><td>0.291319</td><td>0.145954</td><td>0.196887</td><td>0.263636</td><td>0.220609</td><td>0.274802</td><td>0.231031</td><td>0.271441</td><td>0.270503</td><td>0.232863</td><td>0.200787</td><td>0.188265</td><td>0.195154</td><td>0.167635</td><td>0.172791</td><td>0.225742</td><td>&hellip;</td><td>0.2974</td><td>0.191215</td><td>0.210667</td><td>0.172003</td><td>0.210857</td><td>0.210883</td><td>0.171822</td><td>0.214706</td><td>0.185063</td><td>0.192699</td><td>0.283185</td><td>0.274471</td><td>0.156434</td><td>0.184302</td><td>0.179085</td><td>0.181233</td><td>0.216938</td><td>0.304471</td><td>0.171523</td><td>0.205947</td><td>0.220991</td><td>0.308327</td><td>0.22878</td><td>0.175808</td><td>0.173883</td><td>0.224591</td><td>0.261917</td><td>0.230086</td><td>0.297868</td><td>0.243932</td><td>0.243926</td><td>0.142622</td><td>0.194618</td><td>0.160217</td><td>0.280257</td><td>0.333347</td><td>0.149354</td></tr><tr><td>&quot;min&quot;</td><td>1.0</td><td>&quot;Job_Title_1&quot;</td><td>&quot;2018/11&quot;</td><td>&quot;High&quot;</td><td>&quot;AK&quot;</td><td>&quot;A&quot;</td><td>0.3773</td><td>0.0</td><td>0.0</td><td>0.0</td><td>0.0</td><td>0.0</td><td>0.0</td><td>0.0</td><td>6.0</td><td>0.0</td><td>0.0</td><td>-0.763939</td><td>0.0</td><td>-2.138069</td><td>-1.69923</td><td>-0.720396</td><td>-0.814064</td><td>-1.426136</td><td>-1.298331</td><td>-1.400854</td><td>-0.822073</td><td>-1.43582</td><td>-1.205775</td><td>-0.917102</td><td>-0.829142</td><td>-0.724771</td><td>-1.060741</td><td>-0.445423</td><td>-0.915456</td><td>-0.378092</td><td>&hellip;</td><td>-1.423798</td><td>-0.84544</td><td>-0.549458</td><td>-0.866594</td><td>-0.716621</td><td>-1.096527</td><td>-1.035132</td><td>-1.029515</td><td>-1.201307</td><td>-1.063267</td><td>-1.46855</td><td>-0.692713</td><td>-0.857935</td><td>-0.886774</td><td>-0.730142</td><td>-0.755855</td><td>-0.319292</td><td>-1.428641</td><td>-1.130273</td><td>-0.465426</td><td>-0.874737</td><td>-1.474634</td><td>-0.935107</td><td>-1.170864</td><td>-0.815827</td><td>-1.091242</td><td>-1.805645</td><td>-1.139693</td><td>-1.553501</td><td>-1.308425</td><td>-1.05683</td><td>-0.682076</td><td>-1.044931</td><td>-1.427914</td><td>-1.273351</td><td>-1.448333</td><td>-1.563567</td></tr><tr><td>&quot;25%&quot;</td><td>321.0</td><td>null</td><td>null</td><td>null</td><td>null</td><td>null</td><td>0.4705</td><td>null</td><td>null</td><td>null</td><td>null</td><td>null</td><td>null</td><td>null</td><td>36.0</td><td>null</td><td>null</td><td>0.0</td><td>1.644931</td><td>-0.650254</td><td>-0.265989</td><td>-0.140459</td><td>-0.42875</td><td>-0.652855</td><td>-0.542515</td><td>-0.623793</td><td>0.045532</td><td>-0.443845</td><td>-0.738196</td><td>0.197028</td><td>-0.392743</td><td>0.0</td><td>-0.153255</td><td>0.0</td><td>-0.372552</td><td>0.20377</td><td>&hellip;</td><td>-0.78185</td><td>-0.270156</td><td>0.205854</td><td>-0.205327</td><td>-0.032681</td><td>-0.445023</td><td>-0.163453</td><td>-0.449405</td><td>-0.175812</td><td>0.191525</td><td>-0.634714</td><td>0.263437</td><td>-0.244779</td><td>-0.324807</td><td>0.06288</td><td>-0.186037</td><td>0.104078</td><td>-0.749019</td><td>-0.12899</td><td>0.1702</td><td>0.096344</td><td>-0.846139</td><td>-0.249211</td><td>-0.209125</td><td>-0.022139</td><td>-0.597955</td><td>-0.297759</td><td>-0.381138</td><td>-0.694443</td><td>-0.503875</td><td>-0.367155</td><td>-0.000318</td><td>-0.416123</td><td>-0.220456</td><td>-0.779769</td><td>-0.912903</td><td>-0.155563</td></tr><tr><td>&quot;50%&quot;</td><td>641.0</td><td>null</td><td>null</td><td>null</td><td>null</td><td>null</td><td>0.5995</td><td>null</td><td>null</td><td>null</td><td>null</td><td>null</td><td>null</td><td>null</td><td>60.0</td><td>null</td><td>null</td><td>0.199483</td><td>1.965119</td><td>-0.511718</td><td>-0.041913</td><td>-0.034083</td><td>-0.300907</td><td>-0.512744</td><td>-0.426779</td><td>-0.469832</td><td>0.270165</td><td>-0.234091</td><td>-0.605022</td><td>0.37428</td><td>-0.248292</td><td>0.078332</td><td>-0.008926</td><td>0.116978</td><td>-0.271655</td><td>0.385968</td><td>&hellip;</td><td>-0.628403</td><td>-0.125551</td><td>0.356791</td><td>-0.063006</td><td>0.040862</td><td>-0.325645</td><td>-0.022874</td><td>-0.304584</td><td>-0.037847</td><td>0.335852</td><td>-0.432528</td><td>0.466028</td><td>-0.136418</td><td>-0.195937</td><td>0.198534</td><td>-0.049408</td><td>0.274955</td><td>-0.602216</td><td>0.0</td><td>0.333147</td><td>0.282578</td><td>-0.711459</td><td>-0.074051</td><td>-0.085102</td><td>0.053374</td><td>-0.480499</td><td>-0.097711</td><td>-0.218468</td><td>-0.526249</td><td>-0.363773</td><td>-0.192512</td><td>0.045018</td><td>-0.300008</td><td>-0.102287</td><td>-0.666345</td><td>-0.789784</td><td>-0.048326</td></tr><tr><td>&quot;75%&quot;</td><td>960.0</td><td>null</td><td>null</td><td>null</td><td>null</td><td>null</td><td>0.6853</td><td>null</td><td>null</td><td>null</td><td>null</td><td>null</td><td>null</td><td>null</td><td>60.0</td><td>null</td><td>null</td><td>0.36242</td><td>2.235583</td><td>-0.316377</td><td>0.043677</td><td>0.02263</td><td>-0.134318</td><td>-0.362791</td><td>-0.278141</td><td>-0.23576</td><td>0.425401</td><td>-0.044955</td><td>-0.451844</td><td>0.506603</td><td>-0.08481</td><td>0.214721</td><td>0.062747</td><td>0.241668</td><td>-0.137419</td><td>0.522726</td><td>&hellip;</td><td>-0.43855</td><td>0.0</td><td>0.466219</td><td>0.0</td><td>0.180825</td><td>-0.159843</td><td>0.033666</td><td>-0.146091</td><td>0.037407</td><td>0.428573</td><td>-0.19888</td><td>0.62002</td><td>0.0</td><td>-0.060003</td><td>0.322737</td><td>0.025871</td><td>0.424442</td><td>-0.37045</td><td>0.068592</td><td>0.458408</td><td>0.407597</td><td>-0.546802</td><td>0.005077</td><td>0.0</td><td>0.177342</td><td>-0.355826</td><td>0.0</td><td>-0.044063</td><td>-0.334803</td><td>-0.15479</td><td>0.0</td><td>0.14932</td><td>-0.158482</td><td>0.0</td><td>-0.53436</td><td>-0.584597</td><td>0.008719</td></tr><tr><td>&quot;max&quot;</td><td>1280.0</td><td>&quot;Others&quot;</td><td>&quot;2024/08&quot;</td><td>&quot;Medium&quot;</td><td>&quot;WA&quot;</td><td>&quot;E&quot;</td><td>0.9063</td><td>1.0</td><td>1.0</td><td>1.0</td><td>1.0</td><td>1.0</td><td>1.0</td><td>1.0</td><td>300.0</td><td>1.0</td><td>1.0</td><td>0.871714</td><td>3.954989</td><td>1.223969</td><td>1.065928</td><td>0.596698</td><td>0.384203</td><td>0.138056</td><td>0.22871</td><td>0.216743</td><td>0.963109</td><td>0.511162</td><td>0.0</td><td>1.148303</td><td>0.406468</td><td>0.844098</td><td>0.771915</td><td>0.940593</td><td>0.607028</td><td>1.034334</td><td>&hellip;</td><td>0.116707</td><td>0.99786</td><td>0.88182</td><td>0.755414</td><td>1.284559</td><td>0.749266</td><td>0.547881</td><td>0.162212</td><td>0.507286</td><td>0.896417</td><td>0.404549</td><td>1.233851</td><td>0.299553</td><td>0.709138</td><td>1.160908</td><td>0.574714</td><td>1.066812</td><td>0.759383</td><td>0.793534</td><td>1.167904</td><td>0.858412</td><td>0.315603</td><td>1.227365</td><td>0.516979</td><td>0.630908</td><td>0.0</td><td>0.61528</td><td>0.800289</td><td>0.429345</td><td>0.501037</td><td>0.741466</td><td>0.858132</td><td>0.208166</td><td>0.236223</td><td>0.0</td><td>0.232129</td><td>0.460499</td></tr></tbody></table></div>"
      ]
     },
     "execution_count": 35,
     "metadata": {},
     "output_type": "execute_result"
    }
   ],
   "execution_count": 35
  },
  {
   "metadata": {
    "ExecuteTime": {
     "end_time": "2025-05-03T18:22:33.767348Z",
     "start_time": "2025-05-03T18:22:33.639266Z"
    }
   },
   "cell_type": "code",
   "source": "sns.histplot(df[\"job_desc_007\"])",
   "id": "4349a5e4c802c888",
   "outputs": [
    {
     "data": {
      "text/plain": [
       "<Axes: ylabel='Count'>"
      ]
     },
     "execution_count": 42,
     "metadata": {},
     "output_type": "execute_result"
    },
    {
     "data": {
      "text/plain": [
       "<Figure size 640x480 with 1 Axes>"
      ],
      "image/png": "[encoded data removed]"
     },
     "metadata": {},
     "output_type": "display_data"
    }
   ],
   "execution_count": 42
  },
  {
   "metadata": {
    "ExecuteTime": {
     "end_time": "2025-05-03T11:44:57.483142Z",
     "start_time": "2025-05-03T11:44:57.476811Z"
    }
   },
   "cell_type": "code",
   "source": "mini_df.head()",
   "id": "f95a1461831e991d",
   "outputs": [
    {
     "data": {
      "text/plain": [
       "shape: (5, 17)\n",
       "┌─────┬────────────┬────────────┬────────────┬───┬───────────┬────────────┬────────────┬───────────┐\n",
       "│ obs ┆ job_title  ┆ job_posted ┆ salary_cat ┆ … ┆ feature_9 ┆ feature_10 ┆ feature_11 ┆ feature_1 │\n",
       "│ --- ┆ ---        ┆ _date      ┆ egory      ┆   ┆ ---       ┆ ---        ┆ ---        ┆ 2         │\n",
       "│ i64 ┆ str        ┆ ---        ┆ ---        ┆   ┆ bool      ┆ f64        ┆ bool       ┆ ---       │\n",
       "│     ┆            ┆ str        ┆ str        ┆   ┆           ┆            ┆            ┆ bool      │\n",
       "╞═════╪════════════╪════════════╪════════════╪═══╪═══════════╪════════════╪════════════╪═══════════╡\n",
       "│ 1   ┆ Others     ┆ 2024/07    ┆ High       ┆ … ┆ false     ┆ 60.0       ┆ true       ┆ false     │\n",
       "│ 2   ┆ Job_Title_ ┆ 2024/07    ┆ Low        ┆ … ┆ false     ┆ 60.0       ┆ true       ┆ true      │\n",
       "│     ┆ 1          ┆            ┆            ┆   ┆           ┆            ┆            ┆           │\n",
       "│ 3   ┆ Others     ┆ 2024/07    ┆ Low        ┆ … ┆ false     ┆ 36.0       ┆ true       ┆ true      │\n",
       "│ 4   ┆ Others     ┆ 2024/07    ┆ Low        ┆ … ┆ false     ┆ 72.0       ┆ true       ┆ true      │\n",
       "│ 5   ┆ Others     ┆ 2024/07    ┆ Low        ┆ … ┆ false     ┆ 48.0       ┆ true       ┆ true      │\n",
       "└─────┴────────────┴────────────┴────────────┴───┴───────────┴────────────┴────────────┴───────────┘"
      ],
      "text/html": [
       "<div><style>\n",
       ".dataframe > thead > tr,\n",
       ".dataframe > tbody > tr {\n",
       "  text-align: right;\n",
       "  white-space: pre-wrap;\n",
       "}\n",
       "</style>\n",
       "<small>shape: (5, 17)</small><table border=\"1\" class=\"dataframe\"><thead><tr><th>obs</th><th>job_title</th><th>job_posted_date</th><th>salary_category</th><th>job_state</th><th>feature_1</th><th>feature_2</th><th>feature_3</th><th>feature_4</th><th>feature_5</th><th>feature_6</th><th>feature_7</th><th>feature_8</th><th>feature_9</th><th>feature_10</th><th>feature_11</th><th>feature_12</th></tr><tr><td>i64</td><td>str</td><td>str</td><td>str</td><td>str</td><td>str</td><td>f64</td><td>bool</td><td>bool</td><td>bool</td><td>bool</td><td>bool</td><td>bool</td><td>bool</td><td>f64</td><td>bool</td><td>bool</td></tr></thead><tbody><tr><td>1</td><td>&quot;Others&quot;</td><td>&quot;2024/07&quot;</td><td>&quot;High&quot;</td><td>&quot;NY&quot;</td><td>&quot;A&quot;</td><td>0.6429</td><td>false</td><td>false</td><td>true</td><td>true</td><td>true</td><td>false</td><td>false</td><td>60.0</td><td>true</td><td>false</td></tr><tr><td>2</td><td>&quot;Job_Title_1&quot;</td><td>&quot;2024/07&quot;</td><td>&quot;Low&quot;</td><td>&quot;CA&quot;</td><td>&quot;A&quot;</td><td>0.4678</td><td>false</td><td>false</td><td>false</td><td>true</td><td>true</td><td>true</td><td>false</td><td>60.0</td><td>true</td><td>true</td></tr><tr><td>3</td><td>&quot;Others&quot;</td><td>&quot;2024/07&quot;</td><td>&quot;Low&quot;</td><td>&quot;CA&quot;</td><td>&quot;A&quot;</td><td>0.461</td><td>false</td><td>false</td><td>false</td><td>true</td><td>true</td><td>true</td><td>false</td><td>36.0</td><td>true</td><td>true</td></tr><tr><td>4</td><td>&quot;Others&quot;</td><td>&quot;2024/07&quot;</td><td>&quot;Low&quot;</td><td>&quot;CA&quot;</td><td>&quot;A&quot;</td><td>0.5064</td><td>false</td><td>false</td><td>false</td><td>true</td><td>true</td><td>true</td><td>false</td><td>72.0</td><td>true</td><td>true</td></tr><tr><td>5</td><td>&quot;Others&quot;</td><td>&quot;2024/07&quot;</td><td>&quot;Low&quot;</td><td>&quot;CA&quot;</td><td>&quot;A&quot;</td><td>0.464</td><td>false</td><td>false</td><td>false</td><td>true</td><td>true</td><td>false</td><td>false</td><td>48.0</td><td>true</td><td>true</td></tr></tbody></table></div>"
      ]
     },
     "execution_count": 26,
     "metadata": {},
     "output_type": "execute_result"
    }
   ],
   "execution_count": 26
  },
  {
   "metadata": {
    "ExecuteTime": {
     "end_time": "2025-05-03T11:44:57.566680Z",
     "start_time": "2025-05-03T11:44:57.557954Z"
    }
   },
   "cell_type": "code",
   "source": [
    "mini_df_adj = mini_df.with_columns(\n",
    "    pl.col(\"job_posted_date\").str.strptime(pl.Date, format=\"%Y/%m\"),\n",
    "    pl.col(\"job_title\").cast(pl.Categorical),\n",
    "    pl.col(\"salary_category\").cast(pl.Categorical),\n",
    "    pl.col(\"job_state\").cast(pl.Categorical),\n",
    "    pl.col(\"feature_1\").cast(pl.Categorical),\n",
    "    pl.col(pl.Boolean).cast(pl.Int32)\n",
    ")"
   ],
   "id": "bee0c0336c60e24e",
   "outputs": [],
   "execution_count": 27
  },
  {
   "metadata": {
    "ExecuteTime": {
     "end_time": "2025-05-03T11:44:57.670267Z",
     "start_time": "2025-05-03T11:44:57.661498Z"
    }
   },
   "cell_type": "code",
   "source": "mini_df_adj.describe()",
   "id": "d63a3926682a5251",
   "outputs": [
    {
     "data": {
      "text/plain": [
       "shape: (9, 18)\n",
       "┌───────────┬───────────┬───────────┬───────────┬───┬───────────┬───────────┬───────────┬──────────┐\n",
       "│ statistic ┆ obs       ┆ job_title ┆ job_poste ┆ … ┆ feature_9 ┆ feature_1 ┆ feature_1 ┆ feature_ │\n",
       "│ ---       ┆ ---       ┆ ---       ┆ d_date    ┆   ┆ ---       ┆ 0         ┆ 1         ┆ 12       │\n",
       "│ str       ┆ f64       ┆ str       ┆ ---       ┆   ┆ f64       ┆ ---       ┆ ---       ┆ ---      │\n",
       "│           ┆           ┆           ┆ str       ┆   ┆           ┆ f64       ┆ f64       ┆ f64      │\n",
       "╞═══════════╪═══════════╪═══════════╪═══════════╪═══╪═══════════╪═══════════╪═══════════╪══════════╡\n",
       "│ count     ┆ 1280.0    ┆ 1280      ┆ 1279      ┆ … ┆ 1280.0    ┆ 834.0     ┆ 1280.0    ┆ 1280.0   │\n",
       "│ null_coun ┆ 0.0       ┆ 0         ┆ 1         ┆ … ┆ 0.0       ┆ 446.0     ┆ 0.0       ┆ 0.0      │\n",
       "│ t         ┆           ┆           ┆           ┆   ┆           ┆           ┆           ┆          │\n",
       "│ mean      ┆ 640.5     ┆ null      ┆ 2024-03-0 ┆ … ┆ 0.010156  ┆ 57.388489 ┆ 0.955469  ┆ 0.265625 │\n",
       "│           ┆           ┆           ┆ 9 21:42:3 ┆   ┆           ┆           ┆           ┆          │\n",
       "│           ┆           ┆           ┆ 8.561000  ┆   ┆           ┆           ┆           ┆          │\n",
       "│ std       ┆ 369.64848 ┆ null      ┆ null      ┆ … ┆ 0.100304  ┆ 31.695205 ┆ 0.206353  ┆ 0.441838 │\n",
       "│           ┆ 2         ┆           ┆           ┆   ┆           ┆           ┆           ┆          │\n",
       "│ min       ┆ 1.0       ┆ null      ┆ 2018-11-0 ┆ … ┆ 0.0       ┆ 6.0       ┆ 0.0       ┆ 0.0      │\n",
       "│           ┆           ┆           ┆ 1         ┆   ┆           ┆           ┆           ┆          │\n",
       "│ 25%       ┆ 321.0     ┆ null      ┆ 2024-04-0 ┆ … ┆ 0.0       ┆ 36.0      ┆ 1.0       ┆ 0.0      │\n",
       "│           ┆           ┆           ┆ 1         ┆   ┆           ┆           ┆           ┆          │\n",
       "│ 50%       ┆ 641.0     ┆ null      ┆ 2024-07-0 ┆ … ┆ 0.0       ┆ 60.0      ┆ 1.0       ┆ 0.0      │\n",
       "│           ┆           ┆           ┆ 1         ┆   ┆           ┆           ┆           ┆          │\n",
       "│ 75%       ┆ 960.0     ┆ null      ┆ 2024-07-0 ┆ … ┆ 0.0       ┆ 60.0      ┆ 1.0       ┆ 1.0      │\n",
       "│           ┆           ┆           ┆ 1         ┆   ┆           ┆           ┆           ┆          │\n",
       "│ max       ┆ 1280.0    ┆ null      ┆ 2024-08-0 ┆ … ┆ 1.0       ┆ 300.0     ┆ 1.0       ┆ 1.0      │\n",
       "│           ┆           ┆           ┆ 1         ┆   ┆           ┆           ┆           ┆          │\n",
       "└───────────┴───────────┴───────────┴───────────┴───┴───────────┴───────────┴───────────┴──────────┘"
      ],
      "text/html": [
       "<div><style>\n",
       ".dataframe > thead > tr,\n",
       ".dataframe > tbody > tr {\n",
       "  text-align: right;\n",
       "  white-space: pre-wrap;\n",
       "}\n",
       "</style>\n",
       "<small>shape: (9, 18)</small><table border=\"1\" class=\"dataframe\"><thead><tr><th>statistic</th><th>obs</th><th>job_title</th><th>job_posted_date</th><th>salary_category</th><th>job_state</th><th>feature_1</th><th>feature_2</th><th>feature_3</th><th>feature_4</th><th>feature_5</th><th>feature_6</th><th>feature_7</th><th>feature_8</th><th>feature_9</th><th>feature_10</th><th>feature_11</th><th>feature_12</th></tr><tr><td>str</td><td>f64</td><td>str</td><td>str</td><td>str</td><td>str</td><td>str</td><td>f64</td><td>f64</td><td>f64</td><td>f64</td><td>f64</td><td>f64</td><td>f64</td><td>f64</td><td>f64</td><td>f64</td><td>f64</td></tr></thead><tbody><tr><td>&quot;count&quot;</td><td>1280.0</td><td>&quot;1280&quot;</td><td>&quot;1279&quot;</td><td>&quot;1280&quot;</td><td>&quot;1253&quot;</td><td>&quot;1280&quot;</td><td>1280.0</td><td>1280.0</td><td>1280.0</td><td>1280.0</td><td>1280.0</td><td>1280.0</td><td>1280.0</td><td>1280.0</td><td>834.0</td><td>1280.0</td><td>1280.0</td></tr><tr><td>&quot;null_count&quot;</td><td>0.0</td><td>&quot;0&quot;</td><td>&quot;1&quot;</td><td>&quot;0&quot;</td><td>&quot;27&quot;</td><td>&quot;0&quot;</td><td>0.0</td><td>0.0</td><td>0.0</td><td>0.0</td><td>0.0</td><td>0.0</td><td>0.0</td><td>0.0</td><td>446.0</td><td>0.0</td><td>0.0</td></tr><tr><td>&quot;mean&quot;</td><td>640.5</td><td>null</td><td>&quot;2024-03-09 21:42:38.561000&quot;</td><td>null</td><td>null</td><td>null</td><td>0.592414</td><td>0.114844</td><td>0.047656</td><td>0.163281</td><td>0.671094</td><td>0.421875</td><td>0.178906</td><td>0.010156</td><td>57.388489</td><td>0.955469</td><td>0.265625</td></tr><tr><td>&quot;std&quot;</td><td>369.648482</td><td>null</td><td>null</td><td>null</td><td>null</td><td>null</td><td>0.108669</td><td>0.318958</td><td>0.213121</td><td>0.369767</td><td>0.469999</td><td>0.494052</td><td>0.383424</td><td>0.100304</td><td>31.695205</td><td>0.206353</td><td>0.441838</td></tr><tr><td>&quot;min&quot;</td><td>1.0</td><td>null</td><td>&quot;2018-11-01&quot;</td><td>null</td><td>null</td><td>null</td><td>0.3773</td><td>0.0</td><td>0.0</td><td>0.0</td><td>0.0</td><td>0.0</td><td>0.0</td><td>0.0</td><td>6.0</td><td>0.0</td><td>0.0</td></tr><tr><td>&quot;25%&quot;</td><td>321.0</td><td>null</td><td>&quot;2024-04-01&quot;</td><td>null</td><td>null</td><td>null</td><td>0.4705</td><td>0.0</td><td>0.0</td><td>0.0</td><td>0.0</td><td>0.0</td><td>0.0</td><td>0.0</td><td>36.0</td><td>1.0</td><td>0.0</td></tr><tr><td>&quot;50%&quot;</td><td>641.0</td><td>null</td><td>&quot;2024-07-01&quot;</td><td>null</td><td>null</td><td>null</td><td>0.5995</td><td>0.0</td><td>0.0</td><td>0.0</td><td>1.0</td><td>0.0</td><td>0.0</td><td>0.0</td><td>60.0</td><td>1.0</td><td>0.0</td></tr><tr><td>&quot;75%&quot;</td><td>960.0</td><td>null</td><td>&quot;2024-07-01&quot;</td><td>null</td><td>null</td><td>null</td><td>0.6853</td><td>0.0</td><td>0.0</td><td>0.0</td><td>1.0</td><td>1.0</td><td>0.0</td><td>0.0</td><td>60.0</td><td>1.0</td><td>1.0</td></tr><tr><td>&quot;max&quot;</td><td>1280.0</td><td>null</td><td>&quot;2024-08-01&quot;</td><td>null</td><td>null</td><td>null</td><td>0.9063</td><td>1.0</td><td>1.0</td><td>1.0</td><td>1.0</td><td>1.0</td><td>1.0</td><td>1.0</td><td>300.0</td><td>1.0</td><td>1.0</td></tr></tbody></table></div>"
      ]
     },
     "execution_count": 28,
     "metadata": {},
     "output_type": "execute_result"
    }
   ],
   "execution_count": 28
  },
  {
   "metadata": {
    "ExecuteTime": {
     "end_time": "2025-05-03T11:47:37.617678Z",
     "start_time": "2025-05-03T11:47:37.610042Z"
    }
   },
   "cell_type": "code",
   "source": [
    "# 1. Find all the categorical columns in self.data\n",
    "cat_cols = [\n",
    "    name\n",
    "    for name, dtype in mini_df_adj.schema.items()\n",
    "    if dtype == pl.Categorical\n",
    "]\n",
    "\n",
    "# 2. For each cat-col, get value_counts and tag it with the column name\n",
    "counts = []\n",
    "for c in cat_cols:\n",
    "            # 2a. Select just that column, then call DataFrame.value_counts()\n",
    "            vc = (\n",
    "                mini_df_adj[c]\n",
    "                  .value_counts()            # yields columns: c, \"count\"\n",
    "                  .rename({c: \"value\"})     # rename the category column to \"value\"\n",
    "                  .with_columns(pl.lit(c).alias(\"column\"))\n",
    "            )\n",
    "            counts.append(vc)\n",
    "\n",
    "# 3. Concatenate all of them\n",
    "out = pl.concat(counts, how=\"vertical\")\n",
    "\n",
    "out"
   ],
   "id": "1e6789bf7fe75eef",
   "outputs": [
    {
     "name": "stderr",
     "output_type": "stream",
     "text": [
      "sys:1: CategoricalRemappingWarning: Local categoricals have different encodings, expensive re-encoding is done to perform this merge operation. Consider using a StringCache or an Enum type if the categories are known in advance\n"
     ]
    },
    {
     "data": {
      "text/plain": [
       "shape: (73, 3)\n",
       "┌─────────────┬───────┬───────────┐\n",
       "│ value       ┆ count ┆ column    │\n",
       "│ ---         ┆ ---   ┆ ---       │\n",
       "│ cat         ┆ u32   ┆ str       │\n",
       "╞═════════════╪═══════╪═══════════╡\n",
       "│ Others      ┆ 889   ┆ job_title │\n",
       "│ Job_Title_1 ┆ 27    ┆ job_title │\n",
       "│ Job_Title_2 ┆ 32    ┆ job_title │\n",
       "│ Job_Title_3 ┆ 46    ┆ job_title │\n",
       "│ Job_Title_4 ┆ 5     ┆ job_title │\n",
       "│ …           ┆ …     ┆ …         │\n",
       "│ A           ┆ 1232  ┆ feature_1 │\n",
       "│ B           ┆ 36    ┆ feature_1 │\n",
       "│ C           ┆ 6     ┆ feature_1 │\n",
       "│ E           ┆ 1     ┆ feature_1 │\n",
       "│ D           ┆ 5     ┆ feature_1 │\n",
       "└─────────────┴───────┴───────────┘"
      ],
      "text/html": [
       "<div><style>\n",
       ".dataframe > thead > tr,\n",
       ".dataframe > tbody > tr {\n",
       "  text-align: right;\n",
       "  white-space: pre-wrap;\n",
       "}\n",
       "</style>\n",
       "<small>shape: (73, 3)</small><table border=\"1\" class=\"dataframe\"><thead><tr><th>value</th><th>count</th><th>column</th></tr><tr><td>cat</td><td>u32</td><td>str</td></tr></thead><tbody><tr><td>&quot;Others&quot;</td><td>889</td><td>&quot;job_title&quot;</td></tr><tr><td>&quot;Job_Title_1&quot;</td><td>27</td><td>&quot;job_title&quot;</td></tr><tr><td>&quot;Job_Title_2&quot;</td><td>32</td><td>&quot;job_title&quot;</td></tr><tr><td>&quot;Job_Title_3&quot;</td><td>46</td><td>&quot;job_title&quot;</td></tr><tr><td>&quot;Job_Title_4&quot;</td><td>5</td><td>&quot;job_title&quot;</td></tr><tr><td>&hellip;</td><td>&hellip;</td><td>&hellip;</td></tr><tr><td>&quot;A&quot;</td><td>1232</td><td>&quot;feature_1&quot;</td></tr><tr><td>&quot;B&quot;</td><td>36</td><td>&quot;feature_1&quot;</td></tr><tr><td>&quot;C&quot;</td><td>6</td><td>&quot;feature_1&quot;</td></tr><tr><td>&quot;E&quot;</td><td>1</td><td>&quot;feature_1&quot;</td></tr><tr><td>&quot;D&quot;</td><td>5</td><td>&quot;feature_1&quot;</td></tr></tbody></table></div>"
      ]
     },
     "execution_count": 34,
     "metadata": {},
     "output_type": "execute_result"
    }
   ],
   "execution_count": 34
  },
  {
   "metadata": {},
   "cell_type": "code",
   "outputs": [],
   "execution_count": null,
   "source": "",
   "id": "ff97e8f565a62d7d"
  }
 ],
 "metadata": {
  "kernelspec": {
   "display_name": "Python 3",
   "language": "python",
   "name": "python3"
  },
  "language_info": {
   "codemirror_mode": {
    "name": "ipython",
    "version": 2
   },
   "file_extension": ".py",
   "mimetype": "text/x-python",
   "name": "python",
   "nbconvert_exporter": "python",
   "pygments_lexer": "ipython2",
   "version": "2.7.6"
  }
 },
 "nbformat": 4,
 "nbformat_minor": 5
}
